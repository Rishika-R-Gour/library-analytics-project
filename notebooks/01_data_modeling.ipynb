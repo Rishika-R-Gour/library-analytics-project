{
 "cells": [
  {
   "cell_type": "markdown",
   "id": "092d82d0",
   "metadata": {},
   "source": [
    "# 📚 Advanced Library Analytics – Database Schema Setup\n",
    "\n",
    "This notebook defines all tables for the Library Management System aligned with the ERD, using `ipython-sql` and SQLite.\n"
   ]
  },
  {
   "cell_type": "code",
   "execution_count": 13,
   "id": "ccbf4908",
   "metadata": {},
   "outputs": [
    {
     "name": "stdout",
     "output_type": "stream",
     "text": [
      "The sql extension is already loaded. To reload it, use:\n",
      "  %reload_ext sql\n"
     ]
    }
   ],
   "source": [
    "%load_ext sql\n",
    "%sql sqlite:///library.db\n"
   ]
  },
  {
   "cell_type": "code",
   "execution_count": 14,
   "id": "ad25175f",
   "metadata": {},
   "outputs": [
    {
     "name": "stdout",
     "output_type": "stream",
     "text": [
      " * sqlite:///library.db\n",
      "   sqlite:///test.db\n",
      "Done.\n",
      "Done.\n"
     ]
    },
    {
     "data": {
      "text/plain": [
       "[]"
      ]
     },
     "execution_count": 14,
     "metadata": {},
     "output_type": "execute_result"
    }
   ],
   "source": [
    "%%sql\n",
    "DROP TABLE IF EXISTS Member;\n",
    "CREATE TABLE Member (\n",
    "    Member_ID INTEGER PRIMARY KEY,\n",
    "    Name TEXT,\n",
    "    Email TEXT,\n",
    "    Phone TEXT,\n",
    "    Member_Type TEXT\n",
    ");\n"
   ]
  },
  {
   "cell_type": "code",
   "execution_count": 15,
   "id": "6eda9126",
   "metadata": {},
   "outputs": [
    {
     "name": "stdout",
     "output_type": "stream",
     "text": [
      " * sqlite:///library.db\n",
      "   sqlite:///test.db\n",
      "Done.\n",
      "Done.\n",
      "Done.\n",
      "Done.\n",
      "Done.\n",
      "Done.\n"
     ]
    },
    {
     "data": {
      "text/plain": [
       "[]"
      ]
     },
     "execution_count": 15,
     "metadata": {},
     "output_type": "execute_result"
    }
   ],
   "source": [
    "%%sql\n",
    "DROP TABLE IF EXISTS Gold_Membership;\n",
    "DROP TABLE IF EXISTS Silver_Membership;\n",
    "DROP TABLE IF EXISTS Bronze_Membership;\n",
    "\n",
    "CREATE TABLE Gold_Membership (\n",
    "    Gold_Membership_ID INTEGER PRIMARY KEY,\n",
    "    Discount_Rate REAL,\n",
    "    Loyalty_POINTS INTEGER,\n",
    "    Membership_status TEXT,\n",
    "    Member_ID INTEGER,\n",
    "    Membership_start_date DATE,\n",
    "    G_mem_fee REAL,\n",
    "    FOREIGN KEY (Member_ID) REFERENCES Member(Member_ID)\n",
    ");\n",
    "\n",
    "CREATE TABLE Silver_Membership (\n",
    "    Silver_Membership_ID INTEGER PRIMARY KEY,\n",
    "    Discount_Rate REAL,\n",
    "    Loyalty_POINTS INTEGER,\n",
    "    Membership_status TEXT,\n",
    "    Member_ID INTEGER,\n",
    "    Membership_start_date DATE,\n",
    "    S_mem_fee REAL,\n",
    "    FOREIGN KEY (Member_ID) REFERENCES Member(Member_ID)\n",
    ");\n",
    "\n",
    "CREATE TABLE Bronze_Membership (\n",
    "    Bronze_Membership_ID INTEGER PRIMARY KEY,\n",
    "    Discount_Rate REAL,\n",
    "    Loyalty_POINTS INTEGER,\n",
    "    Membership_status TEXT,\n",
    "    Member_ID INTEGER,\n",
    "    Membership_start_date DATE,\n",
    "    B_mem_fee REAL,\n",
    "    FOREIGN KEY (Member_ID) REFERENCES Member(Member_ID)\n",
    ");\n"
   ]
  },
  {
   "cell_type": "code",
   "execution_count": 16,
   "id": "6b1f1724",
   "metadata": {},
   "outputs": [
    {
     "name": "stdout",
     "output_type": "stream",
     "text": [
      " * sqlite:///library.db\n",
      "   sqlite:///test.db\n",
      "Done.\n",
      "Done.\n"
     ]
    },
    {
     "data": {
      "text/plain": [
       "[]"
      ]
     },
     "execution_count": 16,
     "metadata": {},
     "output_type": "execute_result"
    }
   ],
   "source": [
    "%%sql\n",
    "DROP TABLE IF EXISTS Author;\n",
    "CREATE TABLE Author (\n",
    "    Author_ID INTEGER PRIMARY KEY,\n",
    "    Name TEXT,\n",
    "    Email TEXT,\n",
    "    Phone TEXT\n",
    ");\n"
   ]
  },
  {
   "cell_type": "code",
   "execution_count": 17,
   "id": "8a353e7f",
   "metadata": {},
   "outputs": [
    {
     "name": "stdout",
     "output_type": "stream",
     "text": [
      " * sqlite:///library.db\n",
      "   sqlite:///test.db\n",
      "Done.\n",
      "Done.\n"
     ]
    },
    {
     "data": {
      "text/plain": [
       "[]"
      ]
     },
     "execution_count": 17,
     "metadata": {},
     "output_type": "execute_result"
    }
   ],
   "source": [
    "%%sql\n",
    "DROP TABLE IF EXISTS Item_Donor;\n",
    "CREATE TABLE Item_Donor (\n",
    "    Donor_ID INTEGER PRIMARY KEY,\n",
    "    Name TEXT,\n",
    "    Email TEXT,\n",
    "    Phone TEXT\n",
    ");\n"
   ]
  },
  {
   "cell_type": "code",
   "execution_count": 18,
   "id": "69369cc3",
   "metadata": {},
   "outputs": [
    {
     "name": "stdout",
     "output_type": "stream",
     "text": [
      " * sqlite:///library.db\n",
      "   sqlite:///test.db\n",
      "Done.\n",
      "Done.\n"
     ]
    },
    {
     "data": {
      "text/plain": [
       "[]"
      ]
     },
     "execution_count": 18,
     "metadata": {},
     "output_type": "execute_result"
    }
   ],
   "source": [
    "%%sql\n",
    "DROP TABLE IF EXISTS Item_Category;\n",
    "CREATE TABLE Item_Category (\n",
    "    Category_ID INTEGER PRIMARY KEY,\n",
    "    Type_type TEXT,\n",
    "    Name TEXT\n",
    ");\n"
   ]
  },
  {
   "cell_type": "code",
   "execution_count": 19,
   "id": "b8c519e9",
   "metadata": {},
   "outputs": [
    {
     "name": "stdout",
     "output_type": "stream",
     "text": [
      " * sqlite:///library.db\n",
      "   sqlite:///test.db\n",
      "Done.\n",
      "Done.\n"
     ]
    },
    {
     "data": {
      "text/plain": [
       "[]"
      ]
     },
     "execution_count": 19,
     "metadata": {},
     "output_type": "execute_result"
    }
   ],
   "source": [
    "%%sql\n",
    "DROP TABLE IF EXISTS Item;\n",
    "CREATE TABLE Item (\n",
    "    Item_ID INTEGER PRIMARY KEY,\n",
    "    Item_type TEXT,\n",
    "    ISBN TEXT,\n",
    "    Year INTEGER,\n",
    "    Author_ID INTEGER,\n",
    "    Category_ID INTEGER,\n",
    "    Publisher_ID INTEGER,\n",
    "    Pages INTEGER,\n",
    "    Donor_ID INTEGER,\n",
    "    FOREIGN KEY (Author_ID) REFERENCES Author(Author_ID),\n",
    "    FOREIGN KEY (Category_ID) REFERENCES Item_Category(Category_ID),\n",
    "    FOREIGN KEY (Donor_ID) REFERENCES Item_Donor(Donor_ID)\n",
    "    -- Publisher table not shown in ERD; assumed handled separately\n",
    ");\n"
   ]
  },
  {
   "cell_type": "code",
   "execution_count": 20,
   "id": "06a7d3a7",
   "metadata": {},
   "outputs": [
    {
     "name": "stdout",
     "output_type": "stream",
     "text": [
      " * sqlite:///library.db\n",
      "   sqlite:///test.db\n",
      "Done.\n",
      "Done.\n"
     ]
    },
    {
     "data": {
      "text/plain": [
       "[]"
      ]
     },
     "execution_count": 20,
     "metadata": {},
     "output_type": "execute_result"
    }
   ],
   "source": [
    "%%sql\n",
    "DROP TABLE IF EXISTS Library;\n",
    "CREATE TABLE Library (\n",
    "    Library_ID INTEGER PRIMARY KEY,\n",
    "    Library_Name TEXT,\n",
    "    Address TEXT,\n",
    "    Phone TEXT\n",
    ");\n"
   ]
  },
  {
   "cell_type": "code",
   "execution_count": 21,
   "id": "c8b1af2c",
   "metadata": {},
   "outputs": [
    {
     "name": "stdout",
     "output_type": "stream",
     "text": [
      " * sqlite:///library.db\n",
      "   sqlite:///test.db\n",
      "Done.\n",
      "Done.\n"
     ]
    },
    {
     "data": {
      "text/plain": [
       "[]"
      ]
     },
     "execution_count": 21,
     "metadata": {},
     "output_type": "execute_result"
    }
   ],
   "source": [
    "%%sql\n",
    "DROP TABLE IF EXISTS Item_Copy;\n",
    "CREATE TABLE Item_Copy (\n",
    "    Copy_ID INTEGER PRIMARY KEY,\n",
    "    Item_ID INTEGER,\n",
    "    Condition_Status TEXT,\n",
    "    Copy_Number TEXT,\n",
    "    Library_ID INTEGER,\n",
    "    FOREIGN KEY (Item_ID) REFERENCES Item(Item_ID),\n",
    "    FOREIGN KEY (Library_ID) REFERENCES Library(Library_ID)\n",
    ");\n"
   ]
  },
  {
   "cell_type": "code",
   "execution_count": 22,
   "id": "4545b346",
   "metadata": {},
   "outputs": [
    {
     "name": "stdout",
     "output_type": "stream",
     "text": [
      " * sqlite:///library.db\n",
      "   sqlite:///test.db\n",
      "Done.\n",
      "Done.\n"
     ]
    },
    {
     "data": {
      "text/plain": [
       "[]"
      ]
     },
     "execution_count": 22,
     "metadata": {},
     "output_type": "execute_result"
    }
   ],
   "source": [
    "%%sql\n",
    "DROP TABLE IF EXISTS Loan;\n",
    "CREATE TABLE Loan (\n",
    "    Loan_ID INTEGER PRIMARY KEY,\n",
    "    Item_ID INTEGER,\n",
    "    Issue_Date DATE,\n",
    "    Due_Date DATE,\n",
    "    Return_Date DATE,\n",
    "    Member_ID INTEGER,\n",
    "    Status TEXT,\n",
    "    Copy_ID INTEGER,\n",
    "    FOREIGN KEY (Item_ID) REFERENCES Item(Item_ID),\n",
    "    FOREIGN KEY (Member_ID) REFERENCES Member(Member_ID),\n",
    "    FOREIGN KEY (Copy_ID) REFERENCES Item_Copy(Copy_ID)\n",
    ");\n",
    "\n"
   ]
  },
  {
   "cell_type": "code",
   "execution_count": 23,
   "id": "581f6c92",
   "metadata": {},
   "outputs": [
    {
     "name": "stdout",
     "output_type": "stream",
     "text": [
      " * sqlite:///library.db\n",
      "   sqlite:///test.db\n",
      "Done.\n",
      "Done.\n"
     ]
    },
    {
     "data": {
      "text/plain": [
       "[]"
      ]
     },
     "execution_count": 23,
     "metadata": {},
     "output_type": "execute_result"
    }
   ],
   "source": [
    "%%sql\n",
    "DROP TABLE IF EXISTS Penalty;\n",
    "CREATE TABLE Penalty (\n",
    "    Penalty_ID INTEGER PRIMARY KEY,\n",
    "    Member_ID INTEGER,\n",
    "    Loan_ID INTEGER,\n",
    "    Amount REAL,\n",
    "    Paid_Status TEXT,\n",
    "    FOREIGN KEY (Member_ID) REFERENCES Member(Member_ID),\n",
    "    FOREIGN KEY (Loan_ID) REFERENCES Loan(Loan_ID)\n",
    ");\n"
   ]
  },
  {
   "cell_type": "code",
   "execution_count": 24,
   "id": "055328e4",
   "metadata": {},
   "outputs": [
    {
     "name": "stdout",
     "output_type": "stream",
     "text": [
      " * sqlite:///library.db\n",
      "   sqlite:///test.db\n",
      "Done.\n",
      "Done.\n"
     ]
    },
    {
     "data": {
      "text/plain": [
       "[]"
      ]
     },
     "execution_count": 24,
     "metadata": {},
     "output_type": "execute_result"
    }
   ],
   "source": [
    "%%sql\n",
    "DROP TABLE IF EXISTS Librarian;\n",
    "CREATE TABLE Librarian (\n",
    "    Librarian_ID INTEGER PRIMARY KEY,\n",
    "    Name TEXT,\n",
    "    Email TEXT,\n",
    "    Phone TEXT,\n",
    "    Library_ID INTEGER,\n",
    "    FOREIGN KEY (Library_ID) REFERENCES Library(Library_ID)\n",
    ");\n"
   ]
  },
  {
   "cell_type": "code",
   "execution_count": 25,
   "id": "c2bd5cd8",
   "metadata": {},
   "outputs": [
    {
     "name": "stdout",
     "output_type": "stream",
     "text": [
      " * sqlite:///library.db\n",
      "   sqlite:///test.db\n",
      "Done.\n",
      "Done.\n"
     ]
    },
    {
     "data": {
      "text/plain": [
       "[]"
      ]
     },
     "execution_count": 25,
     "metadata": {},
     "output_type": "execute_result"
    }
   ],
   "source": [
    "%%sql\n",
    "DROP TABLE IF EXISTS Events;\n",
    "CREATE TABLE Events (\n",
    "    Event_ID INTEGER PRIMARY KEY,\n",
    "    Title TEXT,\n",
    "    Description TEXT,\n",
    "    Date DATE,\n",
    "    Library_ID INTEGER,\n",
    "    FOREIGN KEY (Library_ID) REFERENCES Library(Library_ID)\n",
    ");\n"
   ]
  },
  {
   "cell_type": "code",
   "execution_count": 26,
   "id": "a5330ebd",
   "metadata": {},
   "outputs": [
    {
     "name": "stdout",
     "output_type": "stream",
     "text": [
      " * sqlite:///library.db\n",
      "   sqlite:///test.db\n",
      "Done.\n",
      "Done.\n"
     ]
    },
    {
     "data": {
      "text/plain": [
       "[]"
      ]
     },
     "execution_count": 26,
     "metadata": {},
     "output_type": "execute_result"
    }
   ],
   "source": [
    "%%sql\n",
    "DROP TABLE IF EXISTS Equipment;\n",
    "CREATE TABLE Equipment (\n",
    "    Equipment_ID INTEGER PRIMARY KEY,\n",
    "    Name TEXT,\n",
    "    Description TEXT,\n",
    "    Library_ID INTEGER,\n",
    "    FOREIGN KEY (Library_ID) REFERENCES Library(Library_ID)\n",
    ");\n"
   ]
  },
  {
   "cell_type": "code",
   "execution_count": 32,
   "id": "011922ff",
   "metadata": {},
   "outputs": [
    {
     "name": "stdout",
     "output_type": "stream",
     "text": [
      " * sqlite:///library.db\n",
      "   sqlite:///test.db\n",
      "Done.\n"
     ]
    },
    {
     "data": {
      "text/html": [
       "<table>\n",
       "    <thead>\n",
       "        <tr>\n",
       "            <th>name</th>\n",
       "        </tr>\n",
       "    </thead>\n",
       "    <tbody>\n",
       "        <tr>\n",
       "            <td>Author</td>\n",
       "        </tr>\n",
       "        <tr>\n",
       "            <td>Bronze_Membership</td>\n",
       "        </tr>\n",
       "        <tr>\n",
       "            <td>Equipment</td>\n",
       "        </tr>\n",
       "        <tr>\n",
       "            <td>Events</td>\n",
       "        </tr>\n",
       "        <tr>\n",
       "            <td>Gold_Membership</td>\n",
       "        </tr>\n",
       "        <tr>\n",
       "            <td>Item</td>\n",
       "        </tr>\n",
       "        <tr>\n",
       "            <td>Item_Category</td>\n",
       "        </tr>\n",
       "        <tr>\n",
       "            <td>Item_Copy</td>\n",
       "        </tr>\n",
       "        <tr>\n",
       "            <td>Item_Donor</td>\n",
       "        </tr>\n",
       "        <tr>\n",
       "            <td>Librarian</td>\n",
       "        </tr>\n",
       "        <tr>\n",
       "            <td>Library</td>\n",
       "        </tr>\n",
       "        <tr>\n",
       "            <td>Loan</td>\n",
       "        </tr>\n",
       "        <tr>\n",
       "            <td>Member</td>\n",
       "        </tr>\n",
       "        <tr>\n",
       "            <td>Penalty</td>\n",
       "        </tr>\n",
       "        <tr>\n",
       "            <td>Silver_Membership</td>\n",
       "        </tr>\n",
       "    </tbody>\n",
       "</table>"
      ],
      "text/plain": [
       "[('Author',),\n",
       " ('Bronze_Membership',),\n",
       " ('Equipment',),\n",
       " ('Events',),\n",
       " ('Gold_Membership',),\n",
       " ('Item',),\n",
       " ('Item_Category',),\n",
       " ('Item_Copy',),\n",
       " ('Item_Donor',),\n",
       " ('Librarian',),\n",
       " ('Library',),\n",
       " ('Loan',),\n",
       " ('Member',),\n",
       " ('Penalty',),\n",
       " ('Silver_Membership',)]"
      ]
     },
     "execution_count": 32,
     "metadata": {},
     "output_type": "execute_result"
    }
   ],
   "source": [
    "%%sql\n",
    "SELECT name FROM sqlite_master \n",
    "WHERE type='table' \n",
    "ORDER BY name;\n"
   ]
  },
  {
   "cell_type": "markdown",
   "id": "e41e6dbf",
   "metadata": {},
   "source": [
    "## 📊 Analytics Enhancement - Fact & Dimension Tables\n",
    "\n",
    "Now let's add specialized analytics tables to support predictive modeling, member behavior tracking, and business intelligence."
   ]
  },
  {
   "cell_type": "code",
   "execution_count": 33,
   "id": "01fbd3d9",
   "metadata": {},
   "outputs": [
    {
     "name": "stdout",
     "output_type": "stream",
     "text": [
      " * sqlite:///library.db\n",
      "   sqlite:///test.db\n",
      "Done.\n",
      "Done.\n"
     ]
    },
    {
     "data": {
      "text/plain": [
       "[]"
      ]
     },
     "execution_count": 33,
     "metadata": {},
     "output_type": "execute_result"
    }
   ],
   "source": [
    "%%sql\n",
    "-- Create fact table for borrow events with member_id, item_id, borrow_date, return_date\n",
    "DROP TABLE IF EXISTS Fact_Borrow_Events;\n",
    "CREATE TABLE Fact_Borrow_Events (\n",
    "    Event_ID INTEGER PRIMARY KEY,\n",
    "    Member_ID INTEGER,\n",
    "    Item_ID INTEGER,\n",
    "    Copy_ID INTEGER,\n",
    "    Library_ID INTEGER,\n",
    "    Borrow_Date DATE,\n",
    "    Due_Date DATE,\n",
    "    Return_Date DATE,\n",
    "    Days_Borrowed INTEGER,\n",
    "    Is_Overdue BOOLEAN,\n",
    "    Days_Overdue INTEGER,\n",
    "    Penalty_Amount REAL,\n",
    "    Member_Type TEXT,\n",
    "    Item_Category TEXT,\n",
    "    Season TEXT, -- Q1, Q2, Q3, Q4\n",
    "    Day_of_Week TEXT,\n",
    "    Is_Weekend BOOLEAN,\n",
    "    FOREIGN KEY (Member_ID) REFERENCES Member(Member_ID),\n",
    "    FOREIGN KEY (Item_ID) REFERENCES Item(Item_ID),\n",
    "    FOREIGN KEY (Copy_ID) REFERENCES Item_Copy(Copy_ID),\n",
    "    FOREIGN KEY (Library_ID) REFERENCES Library(Library_ID)\n",
    ");"
   ]
  },
  {
   "cell_type": "code",
   "execution_count": 34,
   "id": "5a2ce3f6",
   "metadata": {},
   "outputs": [
    {
     "name": "stdout",
     "output_type": "stream",
     "text": [
      " * sqlite:///library.db\n",
      "   sqlite:///test.db\n",
      "Done.\n",
      "Done.\n"
     ]
    },
    {
     "data": {
      "text/plain": [
       "[]"
      ]
     },
     "execution_count": 34,
     "metadata": {},
     "output_type": "execute_result"
    }
   ],
   "source": [
    "%%sql\n",
    "-- Member Behavior Tracking for Advanced Analytics\n",
    "DROP TABLE IF EXISTS Member_Behavior_Analytics;\n",
    "CREATE TABLE Member_Behavior_Analytics (\n",
    "    Analytics_ID INTEGER PRIMARY KEY,\n",
    "    Member_ID INTEGER,\n",
    "    Analysis_Date DATE,\n",
    "    Total_Books_Borrowed INTEGER,\n",
    "    Books_Returned_On_Time INTEGER,\n",
    "    Books_Returned_Late INTEGER,\n",
    "    Average_Days_To_Return REAL,\n",
    "    Favorite_Genre TEXT,\n",
    "    Reading_Frequency_Score REAL, -- Books per month\n",
    "    Member_Lifecycle_Stage TEXT, -- New, Active, At_Risk, Churned\n",
    "    Last_Borrow_Date DATE,\n",
    "    Days_Since_Last_Borrow INTEGER,\n",
    "    Total_Penalties REAL,\n",
    "    Penalty_Payment_Rate REAL, -- % of penalties paid\n",
    "    Preferred_Library_ID INTEGER,\n",
    "    Risk_Score REAL, -- Churn prediction score (0-1)\n",
    "    FOREIGN KEY (Member_ID) REFERENCES Member(Member_ID),\n",
    "    FOREIGN KEY (Preferred_Library_ID) REFERENCES Library(Library_ID)\n",
    ");"
   ]
  },
  {
   "cell_type": "code",
   "execution_count": 35,
   "id": "fedd7e6a",
   "metadata": {},
   "outputs": [
    {
     "name": "stdout",
     "output_type": "stream",
     "text": [
      " * sqlite:///library.db\n",
      "   sqlite:///test.db\n",
      "Done.\n",
      "Done.\n"
     ]
    },
    {
     "data": {
      "text/plain": [
       "[]"
      ]
     },
     "execution_count": 35,
     "metadata": {},
     "output_type": "execute_result"
    }
   ],
   "source": [
    "%%sql\n",
    "-- Item Analytics for Demand Forecasting & Recommendation System\n",
    "DROP TABLE IF EXISTS Item_Analytics;\n",
    "CREATE TABLE Item_Analytics (\n",
    "    Item_Analytics_ID INTEGER PRIMARY KEY,\n",
    "    Item_ID INTEGER,\n",
    "    Analysis_Date DATE,\n",
    "    Total_Borrows INTEGER,\n",
    "    Current_Availability INTEGER,\n",
    "    Average_Loan_Duration REAL,\n",
    "    Popularity_Score REAL, -- Borrows per month\n",
    "    Demand_Score REAL, -- Waitlist/request frequency\n",
    "    Genre_Popularity_Rank INTEGER,\n",
    "    Author_Popularity_Rank INTEGER,\n",
    "    Seasonal_Demand_Pattern TEXT, -- High_Summer, High_Winter, etc.\n",
    "    Target_Audience TEXT, -- Students, Adults, Children\n",
    "    Recommendation_Score REAL, -- For recommendation engine\n",
    "    Last_Borrowed_Date DATE,\n",
    "    Days_Since_Last_Borrowed INTEGER,\n",
    "    FOREIGN KEY (Item_ID) REFERENCES Item(Item_ID)\n",
    ");"
   ]
  },
  {
   "cell_type": "code",
   "execution_count": 36,
   "id": "7d0b1b1d",
   "metadata": {},
   "outputs": [
    {
     "name": "stdout",
     "output_type": "stream",
     "text": [
      " * sqlite:///library.db\n",
      "   sqlite:///test.db\n",
      "Done.\n",
      "Done.\n",
      "Done.\n",
      "Done.\n"
     ]
    },
    {
     "data": {
      "text/plain": [
       "[]"
      ]
     },
     "execution_count": 36,
     "metadata": {},
     "output_type": "execute_result"
    }
   ],
   "source": [
    "%%sql\n",
    "-- Audit Trail & Data Quality Framework\n",
    "DROP TABLE IF EXISTS Audit_Trail;\n",
    "CREATE TABLE Audit_Trail (\n",
    "    Audit_ID INTEGER PRIMARY KEY,\n",
    "    Table_Name TEXT,\n",
    "    Record_ID INTEGER,\n",
    "    Action_Type TEXT, -- INSERT, UPDATE, DELETE\n",
    "    Field_Changed TEXT,\n",
    "    Old_Value TEXT,\n",
    "    New_Value TEXT,\n",
    "    Changed_By TEXT, -- User/System\n",
    "    Change_Timestamp DATETIME,\n",
    "    Reason TEXT\n",
    ");\n",
    "\n",
    "-- External Data Integration Points\n",
    "DROP TABLE IF EXISTS External_Events;\n",
    "CREATE TABLE External_Events (\n",
    "    Event_ID INTEGER PRIMARY KEY,\n",
    "    Event_Date DATE,\n",
    "    Event_Type TEXT, -- Holiday, Weather, Local_Event\n",
    "    Event_Description TEXT,\n",
    "    Impact_Score REAL, -- Expected impact on library usage\n",
    "    Library_ID INTEGER,\n",
    "    FOREIGN KEY (Library_ID) REFERENCES Library(Library_ID)\n",
    ");"
   ]
  },
  {
   "cell_type": "code",
   "execution_count": 37,
   "id": "2f2e2d1b",
   "metadata": {},
   "outputs": [
    {
     "name": "stdout",
     "output_type": "stream",
     "text": [
      " * sqlite:///library.db\n",
      "   sqlite:///test.db\n",
      "Done.\n",
      "Done.\n",
      "Done.\n",
      "Done.\n"
     ]
    },
    {
     "data": {
      "text/plain": [
       "[]"
      ]
     },
     "execution_count": 37,
     "metadata": {},
     "output_type": "execute_result"
    }
   ],
   "source": [
    "%%sql\n",
    "-- Model Predictions Storage (for Phase 2 - Predictive Analytics)\n",
    "DROP TABLE IF EXISTS Prediction_Results;\n",
    "CREATE TABLE Prediction_Results (\n",
    "    Prediction_ID INTEGER PRIMARY KEY,\n",
    "    Model_Name TEXT,\n",
    "    Model_Version TEXT,\n",
    "    Prediction_Date DATETIME,\n",
    "    Target_ID INTEGER, -- Member_ID or Item_ID depending on model\n",
    "    Target_Type TEXT, -- Member, Item, Loan\n",
    "    Prediction_Type TEXT, -- Churn, Overdue, Demand\n",
    "    Predicted_Value REAL,\n",
    "    Confidence_Score REAL,\n",
    "    Actual_Value REAL, -- For model validation\n",
    "    Is_Validated BOOLEAN\n",
    ");\n",
    "\n",
    "-- A/B Testing Framework (for Phase 7)\n",
    "DROP TABLE IF EXISTS AB_Test_Results;\n",
    "CREATE TABLE AB_Test_Results (\n",
    "    Test_ID INTEGER PRIMARY KEY,\n",
    "    Test_Name TEXT,\n",
    "    Member_ID INTEGER,\n",
    "    Test_Group TEXT, -- Control, Treatment_A, Treatment_B\n",
    "    Start_Date DATE,\n",
    "    End_Date DATE,\n",
    "    Metric_Name TEXT,\n",
    "    Metric_Value REAL,\n",
    "    Statistical_Significance REAL,\n",
    "    FOREIGN KEY (Member_ID) REFERENCES Member(Member_ID)\n",
    ");"
   ]
  },
  {
   "cell_type": "code",
   "execution_count": 38,
   "id": "93413151",
   "metadata": {},
   "outputs": [
    {
     "name": "stdout",
     "output_type": "stream",
     "text": [
      " * sqlite:///library.db\n",
      "   sqlite:///test.db\n",
      "Done.\n"
     ]
    },
    {
     "data": {
      "text/html": [
       "<table>\n",
       "    <thead>\n",
       "        <tr>\n",
       "            <th>name</th>\n",
       "        </tr>\n",
       "    </thead>\n",
       "    <tbody>\n",
       "        <tr>\n",
       "            <td>AB_Test_Results</td>\n",
       "        </tr>\n",
       "        <tr>\n",
       "            <td>Audit_Trail</td>\n",
       "        </tr>\n",
       "        <tr>\n",
       "            <td>Author</td>\n",
       "        </tr>\n",
       "        <tr>\n",
       "            <td>Bronze_Membership</td>\n",
       "        </tr>\n",
       "        <tr>\n",
       "            <td>Equipment</td>\n",
       "        </tr>\n",
       "        <tr>\n",
       "            <td>Events</td>\n",
       "        </tr>\n",
       "        <tr>\n",
       "            <td>External_Events</td>\n",
       "        </tr>\n",
       "        <tr>\n",
       "            <td>Fact_Borrow_Events</td>\n",
       "        </tr>\n",
       "        <tr>\n",
       "            <td>Gold_Membership</td>\n",
       "        </tr>\n",
       "        <tr>\n",
       "            <td>Item</td>\n",
       "        </tr>\n",
       "        <tr>\n",
       "            <td>Item_Analytics</td>\n",
       "        </tr>\n",
       "        <tr>\n",
       "            <td>Item_Category</td>\n",
       "        </tr>\n",
       "        <tr>\n",
       "            <td>Item_Copy</td>\n",
       "        </tr>\n",
       "        <tr>\n",
       "            <td>Item_Donor</td>\n",
       "        </tr>\n",
       "        <tr>\n",
       "            <td>Librarian</td>\n",
       "        </tr>\n",
       "        <tr>\n",
       "            <td>Library</td>\n",
       "        </tr>\n",
       "        <tr>\n",
       "            <td>Loan</td>\n",
       "        </tr>\n",
       "        <tr>\n",
       "            <td>Member</td>\n",
       "        </tr>\n",
       "        <tr>\n",
       "            <td>Member_Behavior_Analytics</td>\n",
       "        </tr>\n",
       "        <tr>\n",
       "            <td>Penalty</td>\n",
       "        </tr>\n",
       "        <tr>\n",
       "            <td>Prediction_Results</td>\n",
       "        </tr>\n",
       "        <tr>\n",
       "            <td>Silver_Membership</td>\n",
       "        </tr>\n",
       "    </tbody>\n",
       "</table>"
      ],
      "text/plain": [
       "[('AB_Test_Results',),\n",
       " ('Audit_Trail',),\n",
       " ('Author',),\n",
       " ('Bronze_Membership',),\n",
       " ('Equipment',),\n",
       " ('Events',),\n",
       " ('External_Events',),\n",
       " ('Fact_Borrow_Events',),\n",
       " ('Gold_Membership',),\n",
       " ('Item',),\n",
       " ('Item_Analytics',),\n",
       " ('Item_Category',),\n",
       " ('Item_Copy',),\n",
       " ('Item_Donor',),\n",
       " ('Librarian',),\n",
       " ('Library',),\n",
       " ('Loan',),\n",
       " ('Member',),\n",
       " ('Member_Behavior_Analytics',),\n",
       " ('Penalty',),\n",
       " ('Prediction_Results',),\n",
       " ('Silver_Membership',)]"
      ]
     },
     "execution_count": 38,
     "metadata": {},
     "output_type": "execute_result"
    }
   ],
   "source": [
    "%%sql\n",
    "-- Verify Complete Enhanced Schema\n",
    "SELECT name FROM sqlite_master \n",
    "WHERE type='table' \n",
    "ORDER BY name;"
   ]
  },
  {
   "cell_type": "markdown",
   "id": "320d1629",
   "metadata": {},
   "source": [
    "# 🎯 Phase 2A: Smart Data Generation\n",
    "\n",
    "## 📊 Realistic Synthetic Data with Behavioral Patterns\n",
    "\n",
    "Creating comprehensive synthetic data that includes:\n",
    "- **Member Personas**: Students, professionals, retirees, families\n",
    "- **Seasonal Patterns**: Summer reading, exam periods, holiday trends\n",
    "- **Regional Preferences**: Branch-specific reading habits\n",
    "- **Behavioral Patterns**: Power users, casual readers, at-risk members"
   ]
  },
  {
   "cell_type": "code",
   "execution_count": 1,
   "id": "9834f442",
   "metadata": {},
   "outputs": [
    {
     "name": "stdout",
     "output_type": "stream",
     "text": [
      "✅ Libraries imported successfully!\n",
      "📅 Data generation date: 2025-08-01 22:31:36\n"
     ]
    }
   ],
   "source": [
    "# Import libraries for smart data generation\n",
    "import pandas as pd\n",
    "import numpy as np\n",
    "import random\n",
    "from datetime import datetime, timedelta, date\n",
    "import uuid\n",
    "from faker import Faker\n",
    "import matplotlib.pyplot as plt\n",
    "import seaborn as sns\n",
    "\n",
    "# Set random seeds for reproducibility\n",
    "np.random.seed(42)\n",
    "random.seed(42)\n",
    "\n",
    "# Initialize Faker for realistic data\n",
    "fake = Faker()\n",
    "fake.seed_instance(42)\n",
    "\n",
    "print(\"✅ Libraries imported successfully!\")\n",
    "print(f\"📅 Data generation date: {datetime.now().strftime('%Y-%m-%d %H:%M:%S')}\")"
   ]
  },
  {
   "cell_type": "code",
   "execution_count": 2,
   "id": "3b8c0f6d",
   "metadata": {},
   "outputs": [
    {
     "name": "stdout",
     "output_type": "stream",
     "text": [
      "🔌 Database connected!\n",
      "📊 Data Generation Configuration:\n",
      "   libraries: 5\n",
      "   members: 1000\n",
      "   authors: 200\n",
      "   books_per_author: 3\n",
      "   copies_per_book: 4\n",
      "   loans_per_month: 800\n",
      "   simulation_months: 24\n",
      "   start_date: 2023-01-01 00:00:00\n"
     ]
    }
   ],
   "source": [
    "# Reconnect to database\n",
    "%load_ext sql\n",
    "%sql sqlite:///library.db\n",
    "\n",
    "# Data generation parameters\n",
    "DATA_CONFIG = {\n",
    "    'libraries': 5,\n",
    "    'members': 1000,\n",
    "    'authors': 200,\n",
    "    'books_per_author': 3,\n",
    "    'copies_per_book': 4,\n",
    "    'loans_per_month': 800,\n",
    "    'simulation_months': 24,  # 2 years of data\n",
    "    'start_date': datetime(2023, 1, 1)\n",
    "}\n",
    "\n",
    "print(\"🔌 Database connected!\")\n",
    "print(\"📊 Data Generation Configuration:\")\n",
    "for key, value in DATA_CONFIG.items():\n",
    "    print(f\"   {key}: {value}\")"
   ]
  },
  {
   "cell_type": "code",
   "execution_count": 3,
   "id": "4eced0a2",
   "metadata": {},
   "outputs": [
    {
     "name": "stdout",
     "output_type": "stream",
     "text": [
      "🏢 Generated 5 libraries:\n",
      "   Downtown Central Library - Business focused\n",
      "   University Branch - Student focused\n",
      "   Suburban Family Library - Family focused\n",
      "   Senior Community Center - Elderly focused\n",
      "   Children's Discovery Branch - Children focused\n"
     ]
    }
   ],
   "source": [
    "# 🏢 Generate Libraries with Regional Characteristics\n",
    "def generate_libraries():\n",
    "    library_types = [\n",
    "        (\"Downtown Central Library\", \"123 Main St\", \"Urban\", \"Business\"),\n",
    "        (\"University Branch\", \"456 College Ave\", \"Academic\", \"Student\"),\n",
    "        (\"Suburban Family Library\", \"789 Oak St\", \"Suburban\", \"Family\"),\n",
    "        (\"Senior Community Center\", \"321 Elm Dr\", \"Senior\", \"Elderly\"),\n",
    "        (\"Children's Discovery Branch\", \"654 Park Blvd\", \"Family\", \"Children\")\n",
    "    ]\n",
    "    \n",
    "    libraries = []\n",
    "    for i, (name, address, area_type, primary_audience) in enumerate(library_types, 1):\n",
    "        libraries.append({\n",
    "            'Library_ID': i,\n",
    "            'Library_Name': name,\n",
    "            'Address': address,\n",
    "            'Phone': fake.phone_number(),\n",
    "            'Area_Type': area_type,\n",
    "            'Primary_Audience': primary_audience\n",
    "        })\n",
    "    \n",
    "    return libraries\n",
    "\n",
    "libraries_data = generate_libraries()\n",
    "print(f\"🏢 Generated {len(libraries_data)} libraries:\")\n",
    "for lib in libraries_data:\n",
    "    print(f\"   {lib['Library_Name']} - {lib['Primary_Audience']} focused\")"
   ]
  },
  {
   "cell_type": "code",
   "execution_count": 4,
   "id": "8d8570b9",
   "metadata": {},
   "outputs": [
    {
     "name": "stdout",
     "output_type": "stream",
     "text": [
      "👥 Generated 1000 members with personas:\n",
      "   Professional: 362 members (36.2%)\n",
      "   Retiree: 202 members (20.2%)\n",
      "   Student: 237 members (23.7%)\n",
      "   Casual: 60 members (6.0%)\n",
      "   Parent: 139 members (13.9%)\n"
     ]
    }
   ],
   "source": [
    "# 👥 Generate Members with Realistic Personas\n",
    "def generate_member_personas():\n",
    "    personas = {\n",
    "        'Student': {\n",
    "            'age_range': (18, 28),\n",
    "            'reading_frequency': 'High',\n",
    "            'preferred_genres': ['Academic', 'Science', 'Technology', 'Fiction'],\n",
    "            'borrow_pattern': 'Seasonal_Heavy',  # Heavy during semester\n",
    "            'late_return_rate': 0.25,  # Students often busy\n",
    "            'percentage': 0.25\n",
    "        },\n",
    "        'Professional': {\n",
    "            'age_range': (25, 55),\n",
    "            'reading_frequency': 'Medium',\n",
    "            'preferred_genres': ['Business', 'Self-Help', 'Biography', 'Fiction'],\n",
    "            'borrow_pattern': 'Consistent',\n",
    "            'late_return_rate': 0.15,\n",
    "            'percentage': 0.35\n",
    "        },\n",
    "        'Retiree': {\n",
    "            'age_range': (60, 85),\n",
    "            'reading_frequency': 'High',\n",
    "            'preferred_genres': ['History', 'Biography', 'Mystery', 'Garden'],\n",
    "            'borrow_pattern': 'Consistent_High',\n",
    "            'late_return_rate': 0.08,  # More time to read\n",
    "            'percentage': 0.20\n",
    "        },\n",
    "        'Parent': {\n",
    "            'age_range': (28, 50),\n",
    "            'reading_frequency': 'Medium',\n",
    "            'preferred_genres': ['Children', 'Parenting', 'Fiction', 'Cooking'],\n",
    "            'borrow_pattern': 'Weekend_Heavy',\n",
    "            'late_return_rate': 0.20,  # Busy with kids\n",
    "            'percentage': 0.15\n",
    "        },\n",
    "        'Casual': {\n",
    "            'age_range': (20, 70),\n",
    "            'reading_frequency': 'Low',\n",
    "            'preferred_genres': ['Fiction', 'Romance', 'Mystery', 'Travel'],\n",
    "            'borrow_pattern': 'Irregular',\n",
    "            'late_return_rate': 0.30,  # Less engaged\n",
    "            'percentage': 0.05\n",
    "        }\n",
    "    }\n",
    "    return personas\n",
    "\n",
    "def generate_members(count, personas):\n",
    "    members = []\n",
    "    membership_types = ['Bronze', 'Silver', 'Gold']\n",
    "    \n",
    "    for i in range(1, count + 1):\n",
    "        # Select persona based on percentages\n",
    "        persona_choice = np.random.choice(\n",
    "            list(personas.keys()),\n",
    "            p=[personas[p]['percentage'] for p in personas.keys()]\n",
    "        )\n",
    "        persona = personas[persona_choice]\n",
    "        \n",
    "        # Generate member data\n",
    "        age = np.random.randint(*persona['age_range'])\n",
    "        member_type = np.random.choice(membership_types, p=[0.5, 0.3, 0.2])\n",
    "        \n",
    "        member = {\n",
    "            'Member_ID': i,\n",
    "            'Name': fake.name(),\n",
    "            'Email': fake.email(),\n",
    "            'Phone': fake.phone_number(),\n",
    "            'Member_Type': member_type,\n",
    "            'Age': age,\n",
    "            'Persona': persona_choice,\n",
    "            'Reading_Frequency': persona['reading_frequency'],\n",
    "            'Preferred_Genres': persona['preferred_genres'],\n",
    "            'Borrow_Pattern': persona['borrow_pattern'],\n",
    "            'Late_Return_Rate': persona['late_return_rate'],\n",
    "            'Registration_Date': fake.date_between(\n",
    "                start_date=DATA_CONFIG['start_date'].date(),\n",
    "                end_date=date.today()\n",
    "            )\n",
    "        }\n",
    "        members.append(member)\n",
    "    \n",
    "    return members\n",
    "\n",
    "# Generate the data\n",
    "member_personas = generate_member_personas()\n",
    "members_data = generate_members(DATA_CONFIG['members'], member_personas)\n",
    "\n",
    "print(f\"👥 Generated {len(members_data)} members with personas:\")\n",
    "persona_counts = {}\n",
    "for member in members_data:\n",
    "    persona = member['Persona']\n",
    "    persona_counts[persona] = persona_counts.get(persona, 0) + 1\n",
    "\n",
    "for persona, count in persona_counts.items():\n",
    "    print(f\"   {persona}: {count} members ({count/len(members_data)*100:.1f}%)\")"
   ]
  },
  {
   "cell_type": "code",
   "execution_count": 5,
   "id": "452b3909",
   "metadata": {},
   "outputs": [
    {
     "name": "stdout",
     "output_type": "stream",
     "text": [
      "👨‍💼 Generated 200 authors\n",
      "📚 Generated 600 books\n",
      "📂 Generated 26 categories\n",
      "🎁 Generated 20 donors\n",
      "\n",
      "📊 Genre Distribution:\n",
      "   Fiction: 70 books (11.7%)\n",
      "   Business: 73 books (12.2%)\n",
      "   Arts: 72 books (12.0%)\n",
      "   Children: 63 books (10.5%)\n",
      "   Technical: 95 books (15.8%)\n",
      "   Health: 70 books (11.7%)\n",
      "   Non-Fiction: 87 books (14.5%)\n",
      "   Academic: 70 books (11.7%)\n"
     ]
    }
   ],
   "source": [
    "# 📚 Generate Authors and Books with Genre Diversity\n",
    "def generate_authors_and_books():\n",
    "    # Define genre categories and their characteristics\n",
    "    genres = {\n",
    "        'Fiction': ['Contemporary', 'Historical', 'Literary', 'Thriller'],\n",
    "        'Non-Fiction': ['Biography', 'History', 'Science', 'Self-Help'],\n",
    "        'Academic': ['Textbook', 'Research', 'Reference'],\n",
    "        'Children': ['Picture Book', 'Young Adult', 'Educational'],\n",
    "        'Technical': ['Programming', 'Engineering', 'Mathematics'],\n",
    "        'Arts': ['Art History', 'Music', 'Photography'],\n",
    "        'Health': ['Medicine', 'Fitness', 'Nutrition'],\n",
    "        'Business': ['Management', 'Finance', 'Marketing']\n",
    "    }\n",
    "    \n",
    "    authors = []\n",
    "    books = []\n",
    "    categories = []\n",
    "    donors = []\n",
    "    \n",
    "    # Generate categories first\n",
    "    category_id = 1\n",
    "    for main_genre, sub_genres in genres.items():\n",
    "        for sub_genre in sub_genres:\n",
    "            categories.append({\n",
    "                'Category_ID': category_id,\n",
    "                'Type_type': main_genre,\n",
    "                'Name': sub_genre\n",
    "            })\n",
    "            category_id += 1\n",
    "    \n",
    "    # Generate some donors\n",
    "    for i in range(1, 21):  # 20 donors\n",
    "        donors.append({\n",
    "            'Donor_ID': i,\n",
    "            'Name': fake.company(),\n",
    "            'Email': fake.company_email(),\n",
    "            'Phone': fake.phone_number()\n",
    "        })\n",
    "    \n",
    "    # Generate authors and their books\n",
    "    book_id = 1\n",
    "    for author_id in range(1, DATA_CONFIG['authors'] + 1):\n",
    "        author = {\n",
    "            'Author_ID': author_id,\n",
    "            'Name': fake.name(),\n",
    "            'Email': fake.email(),\n",
    "            'Phone': fake.phone_number()\n",
    "        }\n",
    "        authors.append(author)\n",
    "        \n",
    "        # Each author writes books in 1-2 genres primarily\n",
    "        author_genres = random.sample(list(genres.keys()), random.randint(1, 2))\n",
    "        \n",
    "        for book_num in range(DATA_CONFIG['books_per_author']):\n",
    "            genre = random.choice(author_genres)\n",
    "            sub_genre = random.choice(genres[genre])\n",
    "            category = next(c for c in categories if c['Name'] == sub_genre)\n",
    "            \n",
    "            book = {\n",
    "                'Item_ID': book_id,\n",
    "                'Item_type': 'Book',\n",
    "                'ISBN': fake.isbn13(),\n",
    "                'Title': fake.catch_phrase(),\n",
    "                'Year': random.randint(1990, 2024),\n",
    "                'Author_ID': author_id,\n",
    "                'Category_ID': category['Category_ID'],\n",
    "                'Publisher_ID': random.randint(1, 50),  # Assume 50 publishers\n",
    "                'Pages': random.randint(150, 800),\n",
    "                'Donor_ID': random.choice([None] + [d['Donor_ID'] for d in donors[:10]])  # Some donated\n",
    "            }\n",
    "            books.append(book)\n",
    "            book_id += 1\n",
    "    \n",
    "    return authors, books, categories, donors\n",
    "\n",
    "# Generate the data\n",
    "authors_data, books_data, categories_data, donors_data = generate_authors_and_books()\n",
    "\n",
    "print(f\"👨‍💼 Generated {len(authors_data)} authors\")\n",
    "print(f\"📚 Generated {len(books_data)} books\")\n",
    "print(f\"📂 Generated {len(categories_data)} categories\")\n",
    "print(f\"🎁 Generated {len(donors_data)} donors\")\n",
    "\n",
    "# Show genre distribution\n",
    "genre_counts = {}\n",
    "for book in books_data:\n",
    "    category = next(c for c in categories_data if c['Category_ID'] == book['Category_ID'])\n",
    "    genre = category['Type_type']\n",
    "    genre_counts[genre] = genre_counts.get(genre, 0) + 1\n",
    "\n",
    "print(\"\\n📊 Genre Distribution:\")\n",
    "for genre, count in genre_counts.items():\n",
    "    print(f\"   {genre}: {count} books ({count/len(books_data)*100:.1f}%)\")"
   ]
  },
  {
   "cell_type": "code",
   "execution_count": 7,
   "id": "d66cdcb2",
   "metadata": {},
   "outputs": [
    {
     "name": "stdout",
     "output_type": "stream",
     "text": [
      " * sqlite:///library.db\n",
      "0 rows affected.\n",
      "5 rows affected.\n"
     ]
    },
    {
     "data": {
      "text/plain": [
       "[]"
      ]
     },
     "execution_count": 7,
     "metadata": {},
     "output_type": "execute_result"
    }
   ],
   "source": [
    "%%sql\n",
    "-- Insert Libraries\n",
    "DELETE FROM Library;\n",
    "INSERT INTO Library (Library_ID, Library_Name, Address, Phone)\n",
    "VALUES \n",
    "    (1, 'Downtown Central Library', '123 Main St', '555-0101'),\n",
    "    (2, 'University Branch', '456 College Ave', '555-0102'),\n",
    "    (3, 'Suburban Family Library', '789 Oak St', '555-0103'),\n",
    "    (4, 'Senior Community Center', '321 Elm Dr', '555-0104'),\n",
    "    (5, 'Children''s Discovery Branch', '654 Park Blvd', '555-0105');"
   ]
  },
  {
   "cell_type": "code",
   "execution_count": 8,
   "id": "ce3f811c",
   "metadata": {},
   "outputs": [
    {
     "name": "stdout",
     "output_type": "stream",
     "text": [
      "✅ Inserted 26 categories\n",
      "✅ Inserted 20 donors\n",
      "✅ Inserted 200 authors\n",
      "✅ Inserted 1000 members\n",
      "🔒 Database connection closed\n"
     ]
    }
   ],
   "source": [
    "# Insert Categories, Donors, Authors using pandas for efficiency\n",
    "import sqlite3\n",
    "\n",
    "# Connect to database\n",
    "conn = sqlite3.connect('library.db')\n",
    "\n",
    "# Insert Categories\n",
    "categories_df = pd.DataFrame(categories_data)\n",
    "categories_df.to_sql('Item_Category', conn, if_exists='replace', index=False)\n",
    "print(f\"✅ Inserted {len(categories_df)} categories\")\n",
    "\n",
    "# Insert Donors  \n",
    "donors_df = pd.DataFrame(donors_data)\n",
    "donors_df.to_sql('Item_Donor', conn, if_exists='replace', index=False)\n",
    "print(f\"✅ Inserted {len(donors_df)} donors\")\n",
    "\n",
    "# Insert Authors\n",
    "authors_df = pd.DataFrame(authors_data)\n",
    "authors_df.to_sql('Author', conn, if_exists='replace', index=False)\n",
    "print(f\"✅ Inserted {len(authors_df)} authors\")\n",
    "\n",
    "# Insert Members (basic info only)\n",
    "members_basic = []\n",
    "for member in members_data:\n",
    "    members_basic.append({\n",
    "        'Member_ID': member['Member_ID'],\n",
    "        'Name': member['Name'],\n",
    "        'Email': member['Email'],\n",
    "        'Phone': member['Phone'],\n",
    "        'Member_Type': member['Member_Type']\n",
    "    })\n",
    "\n",
    "members_df = pd.DataFrame(members_basic)\n",
    "members_df.to_sql('Member', conn, if_exists='replace', index=False)\n",
    "print(f\"✅ Inserted {len(members_df)} members\")\n",
    "\n",
    "conn.close()\n",
    "print(\"🔒 Database connection closed\")"
   ]
  },
  {
   "cell_type": "code",
   "execution_count": 9,
   "id": "6f1471a0",
   "metadata": {},
   "outputs": [
    {
     "name": "stdout",
     "output_type": "stream",
     "text": [
      "✅ Inserted 600 books\n",
      "✅ Inserted 1849 book copies\n",
      "\n",
      "📊 Copy Distribution by Library:\n",
      "   Downtown Central: 469 copies\n",
      "   University: 428 copies\n",
      "   Suburban Family: 414 copies\n",
      "   Senior Center: 226 copies\n",
      "   Children's Discovery: 312 copies\n"
     ]
    }
   ],
   "source": [
    "# Insert Books and Generate Copies\n",
    "conn = sqlite3.connect('library.db')\n",
    "\n",
    "# Insert Books\n",
    "books_df = pd.DataFrame(books_data)\n",
    "books_df.to_sql('Item', conn, if_exists='replace', index=False)\n",
    "print(f\"✅ Inserted {len(books_df)} books\")\n",
    "\n",
    "# Generate Book Copies distributed across libraries\n",
    "def generate_book_copies():\n",
    "    copies = []\n",
    "    copy_id = 1\n",
    "    \n",
    "    for book in books_data:\n",
    "        # Each book has 2-6 copies distributed across libraries\n",
    "        num_copies = random.randint(2, DATA_CONFIG['copies_per_book'])\n",
    "        \n",
    "        for copy_num in range(num_copies):\n",
    "            # Distribute copies across libraries with some bias\n",
    "            # Popular genres get more copies in busy libraries\n",
    "            category = next(c for c in categories_data if c['Category_ID'] == book['Category_ID'])\n",
    "            \n",
    "            if category['Type_type'] == 'Academic':\n",
    "                library_weights = [0.1, 0.6, 0.1, 0.1, 0.1]  # Mostly at University\n",
    "            elif category['Type_type'] == 'Children':\n",
    "                library_weights = [0.1, 0.1, 0.3, 0.1, 0.4]  # Family & Children's branches\n",
    "            elif category['Type_type'] == 'Business':\n",
    "                library_weights = [0.5, 0.2, 0.1, 0.1, 0.1]  # Downtown Central\n",
    "            else:\n",
    "                library_weights = [0.25, 0.2, 0.25, 0.15, 0.15]  # Even distribution\n",
    "            \n",
    "            library_id = np.random.choice([1, 2, 3, 4, 5], p=library_weights)\n",
    "            \n",
    "            condition_options = ['Excellent', 'Good', 'Fair', 'Poor']\n",
    "            condition_weights = [0.3, 0.5, 0.15, 0.05]\n",
    "            \n",
    "            copy = {\n",
    "                'Copy_ID': copy_id,\n",
    "                'Item_ID': book['Item_ID'],\n",
    "                'Condition_Status': np.random.choice(condition_options, p=condition_weights),\n",
    "                'Copy_Number': f\"C{copy_num+1:03d}\",\n",
    "                'Library_ID': library_id\n",
    "            }\n",
    "            copies.append(copy)\n",
    "            copy_id += 1\n",
    "    \n",
    "    return copies\n",
    "\n",
    "# Generate and insert copies\n",
    "copies_data = generate_book_copies()\n",
    "copies_df = pd.DataFrame(copies_data)\n",
    "copies_df.to_sql('Item_Copy', conn, if_exists='replace', index=False)\n",
    "print(f\"✅ Inserted {len(copies_df)} book copies\")\n",
    "\n",
    "# Show distribution by library\n",
    "copy_dist = copies_df['Library_ID'].value_counts().sort_index()\n",
    "print(\"\\n📊 Copy Distribution by Library:\")\n",
    "library_names = {1: 'Downtown Central', 2: 'University', 3: 'Suburban Family', \n",
    "                4: 'Senior Center', 5: 'Children\\'s Discovery'}\n",
    "for lib_id, count in copy_dist.items():\n",
    "    print(f\"   {library_names[lib_id]}: {count} copies\")\n",
    "\n",
    "conn.close()"
   ]
  },
  {
   "cell_type": "code",
   "execution_count": 10,
   "id": "c7c062ce",
   "metadata": {},
   "outputs": [
    {
     "name": "stdout",
     "output_type": "stream",
     "text": [
      "🚀 Starting loan generation with behavioral patterns...\n",
      "📅 Generating 1040 loans for 2023-01\n",
      "📅 Generating 1040 loans for 2023-01\n",
      "📅 Generating 800 loans for 2023-03\n",
      "📅 Generating 800 loans for 2023-04\n",
      "📅 Generating 800 loans for 2023-05\n",
      "📅 Generating 800 loans for 2023-05\n",
      "📅 Generating 1120 loans for 2023-06\n",
      "📅 Generating 1120 loans for 2023-07\n",
      "📅 Generating 1120 loans for 2023-08\n",
      "📅 Generating 960 loans for 2023-09\n",
      "📅 Generating 960 loans for 2023-10\n",
      "📅 Generating 720 loans for 2023-11\n",
      "📅 Generating 1040 loans for 2023-12\n",
      "📅 Generating 1040 loans for 2024-01\n",
      "📅 Generating 1040 loans for 2024-02\n",
      "📅 Generating 800 loans for 2024-03\n",
      "📅 Generating 800 loans for 2024-04\n",
      "📅 Generating 800 loans for 2024-05\n",
      "📅 Generating 1120 loans for 2024-06\n",
      "📅 Generating 1120 loans for 2024-07\n",
      "📅 Generating 1120 loans for 2024-08\n",
      "📅 Generating 960 loans for 2024-09\n",
      "📅 Generating 960 loans for 2024-10\n",
      "📅 Generating 720 loans for 2024-11\n",
      "✅ Generated 22800 loans with realistic patterns\n"
     ]
    }
   ],
   "source": [
    "# 📈 Generate Realistic Loan Data with Seasonal Patterns\n",
    "def get_seasonal_multiplier(date):\n",
    "    \"\"\"Get seasonal reading multiplier based on date\"\"\"\n",
    "    month = date.month\n",
    "    \n",
    "    if month in [12, 1, 2]:  # Winter - holiday reading\n",
    "        return 1.3\n",
    "    elif month in [6, 7, 8]:  # Summer - vacation reading\n",
    "        return 1.4\n",
    "    elif month in [9, 10]:   # Back to school\n",
    "        return 1.2\n",
    "    elif month in [3, 4, 5]: # Spring\n",
    "        return 1.0\n",
    "    else:  # Fall\n",
    "        return 0.9\n",
    "\n",
    "def get_member_preference_match(member, book_category):\n",
    "    \"\"\"Check if book matches member preferences\"\"\"\n",
    "    member_obj = next(m for m in members_data if m['Member_ID'] == member)\n",
    "    preferred_genres = member_obj['Preferred_Genres']\n",
    "    \n",
    "    book_cat = next(c for c in categories_data if c['Category_ID'] == book_category)\n",
    "    book_genre = book_cat['Type_type']\n",
    "    \n",
    "    if book_genre in preferred_genres:\n",
    "        return 0.8  # High match\n",
    "    else:\n",
    "        return 0.2  # Low match\n",
    "\n",
    "def generate_loans_with_patterns():\n",
    "    loans = []\n",
    "    loan_id = 1\n",
    "    \n",
    "    # Generate loans month by month for realistic patterns\n",
    "    current_date = DATA_CONFIG['start_date']\n",
    "    end_date = current_date + timedelta(days=30 * DATA_CONFIG['simulation_months'])\n",
    "    \n",
    "    while current_date < end_date:\n",
    "        # Calculate loans for this month\n",
    "        base_loans = DATA_CONFIG['loans_per_month']\n",
    "        seasonal_multiplier = get_seasonal_multiplier(current_date)\n",
    "        monthly_loans = int(base_loans * seasonal_multiplier)\n",
    "        \n",
    "        print(f\"📅 Generating {monthly_loans} loans for {current_date.strftime('%Y-%m')}\")\n",
    "        \n",
    "        for _ in range(monthly_loans):\n",
    "            # Select member based on their borrowing pattern\n",
    "            member_weights = []\n",
    "            for member in members_data:\n",
    "                persona = member['Persona']\n",
    "                if persona == 'Student':\n",
    "                    # Students borrow more during semester (Sept-Dec, Jan-May)\n",
    "                    if current_date.month in [1,2,3,4,5,9,10,11,12]:\n",
    "                        weight = 3.0\n",
    "                    else:\n",
    "                        weight = 1.0\n",
    "                elif persona == 'Retiree':\n",
    "                    weight = 2.5  # Consistent high borrowing\n",
    "                elif persona == 'Professional':\n",
    "                    weight = 1.5  # Steady borrowing\n",
    "                elif persona == 'Parent':\n",
    "                    # Higher on weekends/holidays\n",
    "                    weight = 1.8\n",
    "                else:  # Casual\n",
    "                    weight = 0.5\n",
    "                \n",
    "                member_weights.append(weight)\n",
    "            \n",
    "            # Normalize weights\n",
    "            total_weight = sum(member_weights)\n",
    "            member_probs = [w/total_weight for w in member_weights]\n",
    "            \n",
    "            # Select member\n",
    "            member_idx = np.random.choice(len(members_data), p=member_probs)\n",
    "            member = members_data[member_idx]\n",
    "            \n",
    "            # Select book based on member preferences\n",
    "            available_copies = [c for c in copies_data]  # Simplified - all available\n",
    "            \n",
    "            # Weight books by preference match\n",
    "            book_weights = []\n",
    "            for copy in available_copies:\n",
    "                book = next(b for b in books_data if b['Item_ID'] == copy['Item_ID'])\n",
    "                preference_match = get_member_preference_match(member['Member_ID'], book['Category_ID'])\n",
    "                book_weights.append(preference_match)\n",
    "            \n",
    "            if not book_weights:\n",
    "                continue\n",
    "                \n",
    "            # Normalize and select\n",
    "            total_book_weight = sum(book_weights)\n",
    "            if total_book_weight == 0:\n",
    "                continue\n",
    "                \n",
    "            book_probs = [w/total_book_weight for w in book_weights]\n",
    "            copy_idx = np.random.choice(len(available_copies), p=book_probs)\n",
    "            selected_copy = available_copies[copy_idx]\n",
    "            selected_book = next(b for b in books_data if b['Item_ID'] == selected_copy['Item_ID'])\n",
    "            \n",
    "            # Generate loan dates\n",
    "            issue_date = current_date + timedelta(days=random.randint(0, 29))\n",
    "            due_date = issue_date + timedelta(days=14)  # 2 week loan period\n",
    "            \n",
    "            # Determine if returned late based on member persona\n",
    "            late_prob = member['Late_Return_Rate']\n",
    "            is_late = random.random() < late_prob\n",
    "            \n",
    "            if is_late:\n",
    "                # Late return - 1-10 days after due date\n",
    "                return_date = due_date + timedelta(days=random.randint(1, 10))\n",
    "                status = 'Returned_Late'\n",
    "            else:\n",
    "                # On time or early return\n",
    "                return_date = due_date - timedelta(days=random.randint(0, 3))\n",
    "                status = 'Returned'\n",
    "            \n",
    "            loan = {\n",
    "                'Loan_ID': loan_id,\n",
    "                'Item_ID': selected_book['Item_ID'],\n",
    "                'Issue_Date': issue_date.date(),\n",
    "                'Due_Date': due_date.date(),\n",
    "                'Return_Date': return_date.date(),\n",
    "                'Member_ID': member['Member_ID'],\n",
    "                'Status': status,\n",
    "                'Copy_ID': selected_copy['Copy_ID']\n",
    "            }\n",
    "            loans.append(loan)\n",
    "            loan_id += 1\n",
    "        \n",
    "        # Move to next month\n",
    "        current_date = current_date + timedelta(days=30)\n",
    "    \n",
    "    return loans\n",
    "\n",
    "print(\"🚀 Starting loan generation with behavioral patterns...\")\n",
    "loans_data = generate_loans_with_patterns()\n",
    "print(f\"✅ Generated {len(loans_data)} loans with realistic patterns\")"
   ]
  },
  {
   "cell_type": "code",
   "execution_count": 12,
   "id": "218a6605",
   "metadata": {},
   "outputs": [
    {
     "name": "stdout",
     "output_type": "stream",
     "text": [
      "✅ Inserted 22800 loans\n",
      "✅ Generated 3795 penalties for late returns\n",
      "\n",
      "📊 Loan Statistics:\n",
      "   Total loans: 22800\n",
      "   Late returns: 3795 (16.6%)\n",
      "   On-time returns: 19005 (83.4%)\n",
      "   Total penalty amount: $10457.00\n",
      "   Paid penalties: $7544.00 (72.1%)\n"
     ]
    }
   ],
   "source": [
    "# Insert Loan Data and Generate Penalties\n",
    "conn = sqlite3.connect('library.db')\n",
    "\n",
    "# Insert loans\n",
    "loans_df = pd.DataFrame(loans_data)\n",
    "loans_df.to_sql('Loan', conn, if_exists='replace', index=False)\n",
    "print(f\"✅ Inserted {len(loans_df)} loans\")\n",
    "\n",
    "# Generate penalties for late returns\n",
    "def generate_penalties():\n",
    "    penalties = []\n",
    "    penalty_id = 1\n",
    "    \n",
    "    late_loans = [loan for loan in loans_data if loan['Status'] == 'Returned_Late']\n",
    "    \n",
    "    for loan in late_loans:\n",
    "        # Calculate days overdue\n",
    "        due_date = datetime.strptime(str(loan['Due_Date']), '%Y-%m-%d').date()\n",
    "        return_date = datetime.strptime(str(loan['Return_Date']), '%Y-%m-%d').date()\n",
    "        days_overdue = (return_date - due_date).days\n",
    "        \n",
    "        # Calculate penalty amount ($0.50 per day)\n",
    "        penalty_amount = days_overdue * 0.50\n",
    "        \n",
    "        # Determine if penalty is paid (based on member type)\n",
    "        member = next(m for m in members_data if m['Member_ID'] == loan['Member_ID'])\n",
    "        if member['Member_Type'] == 'Gold':\n",
    "            paid_prob = 0.9  # Gold members pay penalties quickly\n",
    "        elif member['Member_Type'] == 'Silver':\n",
    "            paid_prob = 0.75\n",
    "        else:  # Bronze\n",
    "            paid_prob = 0.6\n",
    "        \n",
    "        is_paid = random.random() < paid_prob\n",
    "        \n",
    "        penalty = {\n",
    "            'Penalty_ID': penalty_id,\n",
    "            'Member_ID': loan['Member_ID'],\n",
    "            'Loan_ID': loan['Loan_ID'],\n",
    "            'Amount': round(penalty_amount, 2),\n",
    "            'Paid_Status': 'Paid' if is_paid else 'Unpaid'\n",
    "        }\n",
    "        penalties.append(penalty)\n",
    "        penalty_id += 1\n",
    "    \n",
    "    return penalties\n",
    "\n",
    "penalties_data = generate_penalties()\n",
    "penalties_df = pd.DataFrame(penalties_data)\n",
    "penalties_df.to_sql('Penalty', conn, if_exists='replace', index=False)\n",
    "print(f\"✅ Generated {len(penalties_df)} penalties for late returns\")\n",
    "\n",
    "# Show loan statistics\n",
    "print(\"\\n📊 Loan Statistics:\")\n",
    "total_loans = len(loans_data)\n",
    "late_loans = len([l for l in loans_data if l['Status'] == 'Returned_Late'])\n",
    "print(f\"   Total loans: {total_loans}\")\n",
    "print(f\"   Late returns: {late_loans} ({late_loans/total_loans*100:.1f}%)\")\n",
    "print(f\"   On-time returns: {total_loans - late_loans} ({(total_loans-late_loans)/total_loans*100:.1f}%)\")\n",
    "\n",
    "# Penalty statistics\n",
    "total_penalties = penalties_df['Amount'].sum()\n",
    "paid_penalties = penalties_df[penalties_df['Paid_Status'] == 'Paid']['Amount'].sum()\n",
    "print(f\"   Total penalty amount: ${total_penalties:.2f}\")\n",
    "print(f\"   Paid penalties: ${paid_penalties:.2f} ({paid_penalties/total_penalties*100:.1f}%)\")\n",
    "\n",
    "conn.close()"
   ]
  },
  {
   "cell_type": "code",
   "execution_count": 13,
   "id": "2f57450a",
   "metadata": {},
   "outputs": [
    {
     "name": "stdout",
     "output_type": "stream",
     "text": [
      "🚀 Populating analytics fact table...\n",
      "✅ Populated 22800 fact table records\n"
     ]
    }
   ],
   "source": [
    "# 📊 Populate Analytics Fact Table\n",
    "def populate_fact_borrow_events():\n",
    "    fact_events = []\n",
    "    \n",
    "    for loan in loans_data:\n",
    "        # Get related data\n",
    "        member = next(m for m in members_data if m['Member_ID'] == loan['Member_ID'])\n",
    "        book = next(b for b in books_data if b['Item_ID'] == loan['Item_ID'])\n",
    "        category = next(c for c in categories_data if c['Category_ID'] == book['Category_ID'])\n",
    "        copy = next(c for c in copies_data if c['Copy_ID'] == loan['Copy_ID'])\n",
    "        \n",
    "        # Calculate derived fields\n",
    "        issue_date = datetime.strptime(str(loan['Issue_Date']), '%Y-%m-%d').date()\n",
    "        due_date = datetime.strptime(str(loan['Due_Date']), '%Y-%m-%d').date()\n",
    "        return_date = datetime.strptime(str(loan['Return_Date']), '%Y-%m-%d').date()\n",
    "        \n",
    "        days_borrowed = (return_date - issue_date).days\n",
    "        is_overdue = loan['Status'] == 'Returned_Late'\n",
    "        days_overdue = (return_date - due_date).days if is_overdue else 0\n",
    "        \n",
    "        # Get penalty amount if exists\n",
    "        penalty_amount = 0\n",
    "        if is_overdue:\n",
    "            penalty = next((p for p in penalties_data if p['Loan_ID'] == loan['Loan_ID']), None)\n",
    "            if penalty:\n",
    "                penalty_amount = penalty['Amount']\n",
    "        \n",
    "        # Determine season\n",
    "        month = issue_date.month\n",
    "        if month in [12, 1, 2]:\n",
    "            season = 'Winter'\n",
    "        elif month in [3, 4, 5]:\n",
    "            season = 'Spring'\n",
    "        elif month in [6, 7, 8]:\n",
    "            season = 'Summer'\n",
    "        else:\n",
    "            season = 'Fall'\n",
    "        \n",
    "        # Day of week\n",
    "        day_of_week = issue_date.strftime('%A')\n",
    "        is_weekend = day_of_week in ['Saturday', 'Sunday']\n",
    "        \n",
    "        fact_event = {\n",
    "            'Event_ID': loan['Loan_ID'],\n",
    "            'Member_ID': loan['Member_ID'],\n",
    "            'Item_ID': loan['Item_ID'],\n",
    "            'Copy_ID': loan['Copy_ID'],\n",
    "            'Library_ID': copy['Library_ID'],\n",
    "            'Borrow_Date': issue_date,\n",
    "            'Due_Date': due_date,\n",
    "            'Return_Date': return_date,\n",
    "            'Days_Borrowed': days_borrowed,\n",
    "            'Is_Overdue': is_overdue,\n",
    "            'Days_Overdue': days_overdue,\n",
    "            'Penalty_Amount': penalty_amount,\n",
    "            'Member_Type': member['Member_Type'],\n",
    "            'Item_Category': category['Type_type'],\n",
    "            'Season': season,\n",
    "            'Day_of_Week': day_of_week,\n",
    "            'Is_Weekend': is_weekend\n",
    "        }\n",
    "        fact_events.append(fact_event)\n",
    "    \n",
    "    return fact_events\n",
    "\n",
    "# Generate and insert fact table data\n",
    "print(\"🚀 Populating analytics fact table...\")\n",
    "fact_events_data = populate_fact_borrow_events()\n",
    "\n",
    "conn = sqlite3.connect('library.db')\n",
    "fact_df = pd.DataFrame(fact_events_data)\n",
    "fact_df.to_sql('Fact_Borrow_Events', conn, if_exists='replace', index=False)\n",
    "print(f\"✅ Populated {len(fact_df)} fact table records\")\n",
    "conn.close()"
   ]
  },
  {
   "cell_type": "code",
   "execution_count": 14,
   "id": "5f16b351",
   "metadata": {},
   "outputs": [
    {
     "name": "stdout",
     "output_type": "stream",
     "text": [
      "🧠 Generating member behavior analytics...\n",
      "✅ Generated 1000 member behavior records\n"
     ]
    }
   ],
   "source": [
    "# 👤 Generate Member Behavior Analytics\n",
    "def generate_member_behavior_analytics():\n",
    "    behavior_analytics = []\n",
    "    analysis_date = date.today()\n",
    "    \n",
    "    for member in members_data:\n",
    "        member_id = member['Member_ID']\n",
    "        \n",
    "        # Get all loans for this member\n",
    "        member_loans = [l for l in loans_data if l['Member_ID'] == member_id]\n",
    "        \n",
    "        if not member_loans:\n",
    "            continue\n",
    "            \n",
    "        # Calculate metrics\n",
    "        total_books_borrowed = len(member_loans)\n",
    "        books_returned_late = len([l for l in member_loans if l['Status'] == 'Returned_Late'])\n",
    "        books_returned_on_time = total_books_borrowed - books_returned_late\n",
    "        \n",
    "        # Average days to return\n",
    "        total_days = 0\n",
    "        for loan in member_loans:\n",
    "            issue_date = datetime.strptime(str(loan['Issue_Date']), '%Y-%m-%d').date()\n",
    "            return_date = datetime.strptime(str(loan['Return_Date']), '%Y-%m-%d').date()\n",
    "            total_days += (return_date - issue_date).days\n",
    "        \n",
    "        avg_days_to_return = total_days / total_books_borrowed if total_books_borrowed > 0 else 0\n",
    "        \n",
    "        # Find favorite genre\n",
    "        genre_counts = {}\n",
    "        for loan in member_loans:\n",
    "            book = next(b for b in books_data if b['Item_ID'] == loan['Item_ID'])\n",
    "            category = next(c for c in categories_data if c['Category_ID'] == book['Category_ID'])\n",
    "            genre = category['Type_type']\n",
    "            genre_counts[genre] = genre_counts.get(genre, 0) + 1\n",
    "        \n",
    "        favorite_genre = max(genre_counts.items(), key=lambda x: x[1])[0] if genre_counts else 'Unknown'\n",
    "        \n",
    "        # Reading frequency (books per month)\n",
    "        loan_dates = [datetime.strptime(str(l['Issue_Date']), '%Y-%m-%d').date() for l in member_loans]\n",
    "        if loan_dates:\n",
    "            date_range = (max(loan_dates) - min(loan_dates)).days\n",
    "            months = max(1, date_range / 30)  # At least 1 month\n",
    "            reading_frequency_score = total_books_borrowed / months\n",
    "        else:\n",
    "            reading_frequency_score = 0\n",
    "        \n",
    "        # Last borrow date and days since\n",
    "        last_borrow_date = max(loan_dates) if loan_dates else None\n",
    "        days_since_last_borrow = (analysis_date - last_borrow_date).days if last_borrow_date else 999\n",
    "        \n",
    "        # Member lifecycle stage\n",
    "        if days_since_last_borrow <= 30:\n",
    "            lifecycle_stage = 'Active'\n",
    "        elif days_since_last_borrow <= 90:\n",
    "            lifecycle_stage = 'At_Risk'\n",
    "        else:\n",
    "            lifecycle_stage = 'Churned'\n",
    "        \n",
    "        # Total penalties\n",
    "        member_penalties = [p for p in penalties_data if p['Member_ID'] == member_id]\n",
    "        total_penalties = sum(p['Amount'] for p in member_penalties)\n",
    "        paid_penalties = sum(p['Amount'] for p in member_penalties if p['Paid_Status'] == 'Paid')\n",
    "        penalty_payment_rate = (paid_penalties / total_penalties) if total_penalties > 0 else 1.0\n",
    "        \n",
    "        # Preferred library (most borrowed from)\n",
    "        library_counts = {}\n",
    "        for loan in member_loans:\n",
    "            copy = next(c for c in copies_data if c['Copy_ID'] == loan['Copy_ID'])\n",
    "            lib_id = copy['Library_ID']\n",
    "            library_counts[lib_id] = library_counts.get(lib_id, 0) + 1\n",
    "        \n",
    "        preferred_library_id = max(library_counts.items(), key=lambda x: x[1])[0] if library_counts else 1\n",
    "        \n",
    "        # Risk score (simple churn prediction based on behavior)\n",
    "        risk_score = 0.0\n",
    "        if days_since_last_borrow > 60:\n",
    "            risk_score += 0.4\n",
    "        if books_returned_late / total_books_borrowed > 0.3:\n",
    "            risk_score += 0.3\n",
    "        if reading_frequency_score < 0.5:\n",
    "            risk_score += 0.3\n",
    "        \n",
    "        risk_score = min(1.0, risk_score)\n",
    "        \n",
    "        behavior_record = {\n",
    "            'Analytics_ID': member_id,\n",
    "            'Member_ID': member_id,\n",
    "            'Analysis_Date': analysis_date,\n",
    "            'Total_Books_Borrowed': total_books_borrowed,\n",
    "            'Books_Returned_On_Time': books_returned_on_time,\n",
    "            'Books_Returned_Late': books_returned_late,\n",
    "            'Average_Days_To_Return': round(avg_days_to_return, 2),\n",
    "            'Favorite_Genre': favorite_genre,\n",
    "            'Reading_Frequency_Score': round(reading_frequency_score, 2),\n",
    "            'Member_Lifecycle_Stage': lifecycle_stage,\n",
    "            'Last_Borrow_Date': last_borrow_date,\n",
    "            'Days_Since_Last_Borrow': days_since_last_borrow,\n",
    "            'Total_Penalties': total_penalties,\n",
    "            'Penalty_Payment_Rate': round(penalty_payment_rate, 2),\n",
    "            'Preferred_Library_ID': preferred_library_id,\n",
    "            'Risk_Score': round(risk_score, 2)\n",
    "        }\n",
    "        behavior_analytics.append(behavior_record)\n",
    "    \n",
    "    return behavior_analytics\n",
    "\n",
    "# Generate and insert member behavior analytics\n",
    "print(\"🧠 Generating member behavior analytics...\")\n",
    "behavior_data = generate_member_behavior_analytics()\n",
    "\n",
    "conn = sqlite3.connect('library.db')\n",
    "behavior_df = pd.DataFrame(behavior_data)\n",
    "behavior_df.to_sql('Member_Behavior_Analytics', conn, if_exists='replace', index=False)\n",
    "print(f\"✅ Generated {len(behavior_df)} member behavior records\")\n",
    "conn.close()"
   ]
  },
  {
   "cell_type": "code",
   "execution_count": 15,
   "id": "2181715f",
   "metadata": {},
   "outputs": [
    {
     "name": "stderr",
     "output_type": "stream",
     "text": [
      "/Users/rishikagour/library_analytics_project/env/lib/python3.11/site-packages/seaborn/utils.py:61: UserWarning: Glyph 128197 (\\N{CALENDAR}) missing from font(s) DejaVu Sans.\n",
      "  fig.canvas.draw()\n",
      "/Users/rishikagour/library_analytics_project/env/lib/python3.11/site-packages/seaborn/utils.py:61: UserWarning: Glyph 128101 (\\N{BUSTS IN SILHOUETTE}) missing from font(s) DejaVu Sans.\n",
      "  fig.canvas.draw()\n",
      "/Users/rishikagour/library_analytics_project/env/lib/python3.11/site-packages/seaborn/utils.py:61: UserWarning: Glyph 127919 (\\N{DIRECT HIT}) missing from font(s) DejaVu Sans.\n",
      "  fig.canvas.draw()\n",
      "/var/folders/ty/3k59sb1566dbb4c8l93z01vh0000gn/T/ipykernel_70300/1989577936.py:103: UserWarning: Glyph 127970 (\\N{OFFICE BUILDING}) missing from font(s) DejaVu Sans.\n",
      "  plt.tight_layout()\n",
      "/Users/rishikagour/library_analytics_project/env/lib/python3.11/site-packages/IPython/core/pylabtools.py:170: UserWarning: Glyph 128197 (\\N{CALENDAR}) missing from font(s) DejaVu Sans.\n",
      "  fig.canvas.print_figure(bytes_io, **kw)\n",
      "/Users/rishikagour/library_analytics_project/env/lib/python3.11/site-packages/IPython/core/pylabtools.py:170: UserWarning: Glyph 128101 (\\N{BUSTS IN SILHOUETTE}) missing from font(s) DejaVu Sans.\n",
      "  fig.canvas.print_figure(bytes_io, **kw)\n",
      "/Users/rishikagour/library_analytics_project/env/lib/python3.11/site-packages/IPython/core/pylabtools.py:170: UserWarning: Glyph 127970 (\\N{OFFICE BUILDING}) missing from font(s) DejaVu Sans.\n",
      "  fig.canvas.print_figure(bytes_io, **kw)\n",
      "/Users/rishikagour/library_analytics_project/env/lib/python3.11/site-packages/IPython/core/pylabtools.py:170: UserWarning: Glyph 127919 (\\N{DIRECT HIT}) missing from font(s) DejaVu Sans.\n",
      "  fig.canvas.print_figure(bytes_io, **kw)\n"
     ]
    },
    {
     "data": {
      "image/png": "[encoded data removed]",
      "text/plain": [
       "<Figure size 1500x1200 with 5 Axes>"
      ]
     },
     "metadata": {},
     "output_type": "display_data"
    },
    {
     "name": "stdout",
     "output_type": "stream",
     "text": [
      "📊 Visualization Summary:\n",
      "✅ Seasonal patterns showing summer/winter peak borrowing\n",
      "✅ Member persona distribution reflecting realistic library demographics\n",
      "✅ Genre preferences varying by library type (Academic books at University, etc.)\n",
      "✅ Member risk analysis identifying potential churners\n"
     ]
    }
   ],
   "source": [
    "# 📈 Create Data Visualizations\n",
    "import matplotlib.pyplot as plt\n",
    "import seaborn as sns\n",
    "plt.style.use('default')\n",
    "\n",
    "# Set up the plotting area\n",
    "fig, axes = plt.subplots(2, 2, figsize=(15, 12))\n",
    "fig.suptitle('🎯 Library Analytics: Phase 2A Data Generation Results', fontsize=16, fontweight='bold')\n",
    "\n",
    "# 1. Seasonal Borrowing Patterns\n",
    "conn = sqlite3.connect('library.db')\n",
    "seasonal_data = pd.read_sql_query(\"\"\"\n",
    "    SELECT Season, COUNT(*) as Total_Loans, \n",
    "           AVG(Days_Borrowed) as Avg_Days_Borrowed\n",
    "    FROM Fact_Borrow_Events \n",
    "    GROUP BY Season\n",
    "    ORDER BY CASE Season \n",
    "        WHEN 'Spring' THEN 1 \n",
    "        WHEN 'Summer' THEN 2 \n",
    "        WHEN 'Fall' THEN 3 \n",
    "        WHEN 'Winter' THEN 4 \n",
    "    END\n",
    "\"\"\", conn)\n",
    "\n",
    "ax1 = axes[0, 0]\n",
    "bars = ax1.bar(seasonal_data['Season'], seasonal_data['Total_Loans'], \n",
    "               color=['#2E8B57', '#FF6347', '#DEB887', '#4169E1'])\n",
    "ax1.set_title('📅 Seasonal Borrowing Patterns')\n",
    "ax1.set_ylabel('Total Loans')\n",
    "ax1.set_xlabel('Season')\n",
    "for i, bar in enumerate(bars):\n",
    "    height = bar.get_height()\n",
    "    ax1.text(bar.get_x() + bar.get_width()/2., height + 50,\n",
    "             f'{int(height):,}', ha='center', va='bottom')\n",
    "\n",
    "# 2. Member Persona Distribution\n",
    "persona_data = pd.DataFrame(members_data)\n",
    "persona_counts = persona_data['Persona'].value_counts()\n",
    "\n",
    "ax2 = axes[0, 1]\n",
    "colors = ['#FF9999', '#66B2FF', '#99FF99', '#FFCC99', '#FF99CC']\n",
    "wedges, texts, autotexts = ax2.pie(persona_counts.values, labels=persona_counts.index, \n",
    "                                   autopct='%1.1f%%', colors=colors, startangle=90)\n",
    "ax2.set_title('👥 Member Persona Distribution')\n",
    "\n",
    "# 3. Genre Popularity by Library\n",
    "genre_library_data = pd.read_sql_query(\"\"\"\n",
    "    SELECT \n",
    "        CASE Library_ID\n",
    "            WHEN 1 THEN 'Downtown'\n",
    "            WHEN 2 THEN 'University' \n",
    "            WHEN 3 THEN 'Suburban'\n",
    "            WHEN 4 THEN 'Senior'\n",
    "            WHEN 5 THEN 'Children'\n",
    "        END as Library,\n",
    "        Item_Category,\n",
    "        COUNT(*) as Loan_Count\n",
    "    FROM Fact_Borrow_Events \n",
    "    GROUP BY Library_ID, Item_Category\n",
    "    ORDER BY Library_ID, Loan_Count DESC\n",
    "\"\"\", conn)\n",
    "\n",
    "# Pivot for heatmap\n",
    "pivot_data = genre_library_data.pivot(index='Item_Category', columns='Library', values='Loan_Count')\n",
    "pivot_data = pivot_data.fillna(0)\n",
    "\n",
    "ax3 = axes[1, 0]\n",
    "sns.heatmap(pivot_data, annot=True, fmt='.0f', cmap='YlOrRd', ax=ax3, cbar_kws={'label': 'Loan Count'})\n",
    "ax3.set_title('🏢 Genre Popularity by Library')\n",
    "ax3.set_xlabel('Library Branch')\n",
    "ax3.set_ylabel('Book Genre')\n",
    "\n",
    "# 4. Member Risk Distribution\n",
    "risk_data = pd.read_sql_query(\"\"\"\n",
    "    SELECT \n",
    "        CASE \n",
    "            WHEN Risk_Score < 0.3 THEN 'Low Risk'\n",
    "            WHEN Risk_Score < 0.6 THEN 'Medium Risk'\n",
    "            ELSE 'High Risk'\n",
    "        END as Risk_Category,\n",
    "        COUNT(*) as Member_Count,\n",
    "        AVG(Reading_Frequency_Score) as Avg_Reading_Frequency\n",
    "    FROM Member_Behavior_Analytics\n",
    "    GROUP BY Risk_Category\n",
    "    ORDER BY Risk_Category\n",
    "\"\"\", conn)\n",
    "\n",
    "ax4 = axes[1, 1]\n",
    "x_pos = range(len(risk_data))\n",
    "bars = ax4.bar(x_pos, risk_data['Member_Count'], \n",
    "               color=['#90EE90', '#FFD700', '#FF6B6B'])\n",
    "ax4.set_title('⚠️ Member Churn Risk Distribution')\n",
    "ax4.set_ylabel('Number of Members')\n",
    "ax4.set_xlabel('Risk Category')\n",
    "ax4.set_xticks(x_pos)\n",
    "ax4.set_xticklabels(risk_data['Risk_Category'])\n",
    "\n",
    "for i, bar in enumerate(bars):\n",
    "    height = bar.get_height()\n",
    "    ax4.text(bar.get_x() + bar.get_width()/2., height + 5,\n",
    "             f'{int(height)}', ha='center', va='bottom')\n",
    "\n",
    "plt.tight_layout()\n",
    "plt.show()\n",
    "\n",
    "conn.close()\n",
    "\n",
    "print(\"📊 Visualization Summary:\")\n",
    "print(\"✅ Seasonal patterns showing summer/winter peak borrowing\")\n",
    "print(\"✅ Member persona distribution reflecting realistic library demographics\") \n",
    "print(\"✅ Genre preferences varying by library type (Academic books at University, etc.)\")\n",
    "print(\"✅ Member risk analysis identifying potential churners\")"
   ]
  },
  {
   "cell_type": "code",
   "execution_count": 17,
   "id": "33afe270",
   "metadata": {},
   "outputs": [
    {
     "name": "stdout",
     "output_type": "stream",
     "text": [
      " * sqlite:///library.db\n",
      "Done.\n"
     ]
    },
    {
     "data": {
      "text/html": [
       "<table>\n",
       "    <thead>\n",
       "        <tr>\n",
       "            <th>Table_Name</th>\n",
       "            <th>Record_Count</th>\n",
       "        </tr>\n",
       "    </thead>\n",
       "    <tbody>\n",
       "        <tr>\n",
       "            <td>Loans</td>\n",
       "            <td>22800</td>\n",
       "        </tr>\n",
       "        <tr>\n",
       "            <td>Fact Events</td>\n",
       "            <td>22800</td>\n",
       "        </tr>\n",
       "        <tr>\n",
       "            <td>Penalties</td>\n",
       "            <td>3795</td>\n",
       "        </tr>\n",
       "        <tr>\n",
       "            <td>Book Copies</td>\n",
       "            <td>1849</td>\n",
       "        </tr>\n",
       "        <tr>\n",
       "            <td>Members</td>\n",
       "            <td>1000</td>\n",
       "        </tr>\n",
       "        <tr>\n",
       "            <td>Member Analytics</td>\n",
       "            <td>1000</td>\n",
       "        </tr>\n",
       "        <tr>\n",
       "            <td>Books</td>\n",
       "            <td>600</td>\n",
       "        </tr>\n",
       "        <tr>\n",
       "            <td>Authors</td>\n",
       "            <td>200</td>\n",
       "        </tr>\n",
       "    </tbody>\n",
       "</table>"
      ],
      "text/plain": [
       "[('Loans', 22800),\n",
       " ('Fact Events', 22800),\n",
       " ('Penalties', 3795),\n",
       " ('Book Copies', 1849),\n",
       " ('Members', 1000),\n",
       " ('Member Analytics', 1000),\n",
       " ('Books', 600),\n",
       " ('Authors', 200)]"
      ]
     },
     "execution_count": 17,
     "metadata": {},
     "output_type": "execute_result"
    }
   ],
   "source": [
    "%%sql\n",
    "-- Final Data Verification\n",
    "SELECT \n",
    "    'Members' as Table_Name, COUNT(*) as Record_Count \n",
    "FROM Member\n",
    "UNION ALL\n",
    "SELECT 'Authors', COUNT(*) FROM Author\n",
    "UNION ALL\n",
    "SELECT 'Books', COUNT(*) FROM Item\n",
    "UNION ALL\n",
    "SELECT 'Book Copies', COUNT(*) FROM Item_Copy\n",
    "UNION ALL\n",
    "SELECT 'Loans', COUNT(*) FROM Loan  \n",
    "UNION ALL\n",
    "SELECT 'Penalties', COUNT(*) FROM Penalty\n",
    "UNION ALL\n",
    "SELECT 'Fact Events', COUNT(*) FROM Fact_Borrow_Events\n",
    "UNION ALL\n",
    "SELECT 'Member Analytics', COUNT(*) FROM Member_Behavior_Analytics\n",
    "ORDER BY Record_Count DESC;"
   ]
  },
  {
   "cell_type": "markdown",
   "id": "31a34478",
   "metadata": {},
   "source": [
    "# 🎯 Phase 2B: First Predictive Model - Overdue Prediction\n",
    "\n",
    "## 🚀 **Goal**: Build ML model to predict which loans will be returned late\n",
    "\n",
    "**Business Value:**\n",
    "- **Proactive Interventions**: Send reminders before books become overdue\n",
    "- **Resource Planning**: Allocate staff time for follow-ups efficiently  \n",
    "- **Member Experience**: Prevent penalties through early warnings\n",
    "- **Revenue Protection**: Reduce lost revenue from unreturned books\n",
    "\n",
    "**Model Approach:**\n",
    "- **Target Variable**: Will loan be returned late? (Binary Classification)\n",
    "- **Features**: Member behavior, book characteristics, seasonal patterns\n",
    "- **Algorithms**: Logistic Regression → Random Forest → XGBoost progression\n",
    "- **Validation**: Time-based split for realistic evaluation"
   ]
  },
  {
   "cell_type": "code",
   "execution_count": null,
   "id": "7a3ef73e",
   "metadata": {},
   "outputs": [],
   "source": [
    "# Install required ML libraries\n",
    "import warnings\n",
    "warnings.filterwarnings('ignore')\n",
    "\n",
    "# Install scikit-learn and other ML libraries if not already installed\n",
    "try:\n",
    "    from sklearn.model_selection import train_test_split, cross_val_score, TimeSeriesSplit\n",
    "    from sklearn.preprocessing import StandardScaler, LabelEncoder\n",
    "    from sklearn.linear_model import LogisticRegression\n",
    "    from sklearn.ensemble import RandomForestClassifier\n",
    "    from sklearn.metrics import classification_report, confusion_matrix, roc_auc_score, roc_curve\n",
    "    from sklearn.inspection import permutation_importance\n",
    "    print(\"✅ All ML libraries already available!\")\n",
    "except ImportError:\n",
    "    print(\"📦 Installing ML libraries...\")\n",
    "    # Will install via notebook package manager if needed\n",
    "\n",
    "# Additional imports for feature engineering\n",
    "from datetime import datetime, timedelta\n",
    "import sqlite3\n",
    "import pandas as pd\n",
    "import numpy as np\n",
    "import matplotlib.pyplot as plt\n",
    "import seaborn as sns\n",
    "\n",
    "print(\"🧠 Machine Learning environment ready!\")\n",
    "print(\"🎯 Target: Predict loan overdue probability\")"
   ]
  }
 ],
 "metadata": {
  "kernelspec": {
   "display_name": "env",
   "language": "python",
   "name": "python3"
  },
  "language_info": {
   "codemirror_mode": {
    "name": "ipython",
    "version": 3
   },
   "file_extension": ".py",
   "mimetype": "text/x-python",
   "name": "python",
   "nbconvert_exporter": "python",
   "pygments_lexer": "ipython3",
   "version": "3.11.13"
  }
 },
 "nbformat": 4,
 "nbformat_minor": 5
}

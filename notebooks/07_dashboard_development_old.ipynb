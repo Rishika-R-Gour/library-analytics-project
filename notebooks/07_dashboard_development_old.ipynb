{
 "cells": [
  {
   "cell_type": "markdown",
   "id": "0a150b7d",
   "metadata": {},
   "source": [
    "# 📊 Professional Dashboard Development\n",
    "\n",
    "## 🎯 **Business Intelligence Dashboard Suite**\n",
    "\n",
    "Comprehensive dashboard solutions for library management and strategic decision-making.\n",
    "\n",
    "### 📈 **Dashboard Portfolio**\n",
    "\n",
    "**Executive Dashboard (2x2 Layout)**\n",
    "- Strategic KPIs and performance metrics\n",
    "- Growth trends and comparative analysis  \n",
    "- Designed for executive presentations and strategic planning\n",
    "\n",
    "**Operational Dashboard (2x3 Layout)**\n",
    "- Real-time operational metrics and daily performance\n",
    "- Staff allocation and member activity tracking\n",
    "- Optimized for operational management decisions\n",
    "\n",
    "**Analytics Dashboard (3x2 Layout)** \n",
    "- Advanced analytics with predictive insights\n",
    "- Member behavior patterns and collection intelligence\n",
    "- Data-driven insights for strategic optimization\n",
    "\n",
    "### 🛠️ **Technical Excellence**\n",
    "- **Professional Visualizations**: Plotly with optimized subplot layouts\n",
    "- **Responsive Design**: Clean styling with proper spacing and margins\n",
    "- **Export Ready**: Production-quality charts for business presentations\n",
    "- **Interactive Features**: Hover effects and zoom capabilities\n",
    "\n",
    "### 📋 **Implementation Overview**\n",
    "This notebook demonstrates advanced dashboard development techniques using:\n",
    "- **Plotly Subplots**: Professional multi-chart layouts\n",
    "- **Optimized Spacing**: No overlapping elements (20%, 15%, 18% spacing)\n",
    "- **Business Intelligence**: Real-world applicable dashboard solutions\n",
    "- **Clean Code Structure**: Well-documented and maintainable implementation"
   ]
  },
  {
   "cell_type": "code",
   "execution_count": 1,
   "id": "2a1293e4",
   "metadata": {},
   "outputs": [
    {
     "name": "stdout",
     "output_type": "stream",
     "text": [
      "📊 Professional dashboard development environment initialized\n",
      "🎯 Ready to create business intelligence dashboards\n",
      "✅ All visualization libraries loaded successfully\n"
     ]
    }
   ],
   "source": [
    "# Essential Dashboard Libraries\n",
    "import pandas as pd\n",
    "import numpy as np\n",
    "import sqlite3\n",
    "from datetime import datetime, timedelta\n",
    "\n",
    "# Professional Dashboard Framework\n",
    "import plotly.graph_objects as go\n",
    "import plotly.express as px\n",
    "from plotly.subplots import make_subplots\n",
    "\n",
    "# Advanced visualization support\n",
    "import matplotlib.pyplot as plt\n",
    "import seaborn as sns\n",
    "\n",
    "print(\"📊 Professional dashboard development environment initialized\")\n",
    "print(\"🎯 Ready to create business intelligence dashboards\")\n",
    "print(\"✅ All visualization libraries loaded successfully\")"
   ]
  },
  {
   "cell_type": "markdown",
   "id": "181c6869",
   "metadata": {},
   "source": [
    "## 🎯 **Executive Dashboard - Strategic Overview**\n",
    "\n",
    "Professional 2x2 layout combining key performance indicators, growth trends, branch comparison, and collection analytics."
   ]
  },
  {
   "cell_type": "code",
   "execution_count": 2,
   "id": "c85418f5",
   "metadata": {},
   "outputs": [
    {
     "data": {
      "application/vnd.plotly.v1+json": {
       "config": {
        "plotlyServerURL": "https://plot.ly"
       },
       "data": [
        {
         "marker": {
          "color": [
           "#1f77b4",
           "#ff7f0e",
           "#2ca02c",
           "#d62728"
          ]
         },
         "showlegend": false,
         "text": [
          "1250",
          "456",
          "5200",
          "25"
         ],
         "textposition": "auto",
         "type": "bar",
         "x": [
          "Total Members",
          "Active Loans",
          "Total Books",
          "Staff Count"
         ],
         "xaxis": "x",
         "y": [
          1250,
          456,
          5200,
          25
         ],
         "yaxis": "y"
        },
        {
         "fill": "tonexty",
         "fillcolor": "rgba(31, 119, 180, 0.2)",
         "line": {
          "color": "#1f77b4",
          "width": 3
         },
         "marker": {
          "size": 8
         },
         "mode": "lines+markers",
         "showlegend": false,
         "type": "scatter",
         "x": [
          "Jan",
          "Feb",
          "Mar",
          "Apr",
          "May",
          "Jun"
         ],
         "xaxis": "x2",
         "y": [
          1200,
          1350,
          1480,
          1520,
          1600,
          1650
         ],
         "yaxis": "y2"
        },
        {
         "marker": {
          "color": [
           "#ff7f0e",
           "#2ca02c",
           "#d62728",
           "#9467bd",
           "#8c564b"
          ]
         },
         "showlegend": false,
         "text": [
          "3000",
          "2800",
          "2500",
          "3200",
          "3500"
         ],
         "textposition": "auto",
         "type": "bar",
         "x": [
          "Main",
          "North",
          "South",
          "East",
          "West"
         ],
         "xaxis": "x3",
         "y": [
          3000,
          2800,
          2500,
          3200,
          3500
         ],
         "yaxis": "y3"
        },
        {
         "domain": {
          "x": [
           0.575,
           1
          ],
          "y": [
           0,
           0.4
          ]
         },
         "hole": 0.4,
         "labels": [
          "Fiction",
          "Non-Fiction",
          "Science",
          "History",
          "Children"
         ],
         "marker": {
          "colors": [
           "#1f77b4",
           "#ff7f0e",
           "#2ca02c",
           "#d62728",
           "#9467bd"
          ]
         },
         "showlegend": false,
         "type": "pie",
         "values": [
          3500,
          2100,
          1800,
          1500,
          1200
         ]
        }
       ],
       "layout": {
        "annotations": [
         {
          "font": {
           "size": 16
          },
          "showarrow": false,
          "text": "Key Performance Indicators",
          "x": 0.2125,
          "xanchor": "center",
          "xref": "paper",
          "y": 1,
          "yanchor": "bottom",
          "yref": "paper"
         },
         {
          "font": {
           "size": 16
          },
          "showarrow": false,
          "text": "Monthly Growth Trends",
          "x": 0.7875,
          "xanchor": "center",
          "xref": "paper",
          "y": 1,
          "yanchor": "bottom",
          "yref": "paper"
         },
         {
          "font": {
           "size": 16
          },
          "showarrow": false,
          "text": "Branch Performance Analysis",
          "x": 0.2125,
          "xanchor": "center",
          "xref": "paper",
          "y": 0.4,
          "yanchor": "bottom",
          "yref": "paper"
         },
         {
          "font": {
           "size": 16
          },
          "showarrow": false,
          "text": "Collection Distribution",
          "x": 0.7875,
          "xanchor": "center",
          "xref": "paper",
          "y": 0.4,
          "yanchor": "bottom",
          "yref": "paper"
         }
        ],
        "height": 800,
        "margin": {
         "b": 60,
         "l": 60,
         "r": 60,
         "t": 100
        },
        "paper_bgcolor": "#f8f9fa",
        "plot_bgcolor": "white",
        "showlegend": false,
        "template": {
         "data": {
          "bar": [
           {
            "error_x": {
             "color": "#2a3f5f"
            },
            "error_y": {
             "color": "#2a3f5f"
            },
            "marker": {
             "line": {
              "color": "#E5ECF6",
              "width": 0.5
             },
             "pattern": {
              "fillmode": "overlay",
              "size": 10,
              "solidity": 0.2
             }
            },
            "type": "bar"
           }
          ],
          "barpolar": [
           {
            "marker": {
             "line": {
              "color": "#E5ECF6",
              "width": 0.5
             },
             "pattern": {
              "fillmode": "overlay",
              "size": 10,
              "solidity": 0.2
             }
            },
            "type": "barpolar"
           }
          ],
          "carpet": [
           {
            "aaxis": {
             "endlinecolor": "#2a3f5f",
             "gridcolor": "white",
             "linecolor": "white",
             "minorgridcolor": "white",
             "startlinecolor": "#2a3f5f"
            },
            "baxis": {
             "endlinecolor": "#2a3f5f",
             "gridcolor": "white",
             "linecolor": "white",
             "minorgridcolor": "white",
             "startlinecolor": "#2a3f5f"
            },
            "type": "carpet"
           }
          ],
          "choropleth": [
           {
            "colorbar": {
             "outlinewidth": 0,
             "ticks": ""
            },
            "type": "choropleth"
           }
          ],
          "contour": [
           {
            "colorbar": {
             "outlinewidth": 0,
             "ticks": ""
            },
            "colorscale": [
             [
              0,
              "#0d0887"
             ],
             [
              0.1111111111111111,
              "#46039f"
             ],
             [
              0.2222222222222222,
              "#7201a8"
             ],
             [
              0.3333333333333333,
              "#9c179e"
             ],
             [
              0.4444444444444444,
              "#bd3786"
             ],
             [
              0.5555555555555556,
              "#d8576b"
             ],
             [
              0.6666666666666666,
              "#ed7953"
             ],
             [
              0.7777777777777778,
              "#fb9f3a"
             ],
             [
              0.8888888888888888,
              "#fdca26"
             ],
             [
              1,
              "#f0f921"
             ]
            ],
            "type": "contour"
           }
          ],
          "contourcarpet": [
           {
            "colorbar": {
             "outlinewidth": 0,
             "ticks": ""
            },
            "type": "contourcarpet"
           }
          ],
          "heatmap": [
           {
            "colorbar": {
             "outlinewidth": 0,
             "ticks": ""
            },
            "colorscale": [
             [
              0,
              "#0d0887"
             ],
             [
              0.1111111111111111,
              "#46039f"
             ],
             [
              0.2222222222222222,
              "#7201a8"
             ],
             [
              0.3333333333333333,
              "#9c179e"
             ],
             [
              0.4444444444444444,
              "#bd3786"
             ],
             [
              0.5555555555555556,
              "#d8576b"
             ],
             [
              0.6666666666666666,
              "#ed7953"
             ],
             [
              0.7777777777777778,
              "#fb9f3a"
             ],
             [
              0.8888888888888888,
              "#fdca26"
             ],
             [
              1,
              "#f0f921"
             ]
            ],
            "type": "heatmap"
           }
          ],
          "histogram": [
           {
            "marker": {
             "pattern": {
              "fillmode": "overlay",
              "size": 10,
              "solidity": 0.2
             }
            },
            "type": "histogram"
           }
          ],
          "histogram2d": [
           {
            "colorbar": {
             "outlinewidth": 0,
             "ticks": ""
            },
            "colorscale": [
             [
              0,
              "#0d0887"
             ],
             [
              0.1111111111111111,
              "#46039f"
             ],
             [
              0.2222222222222222,
              "#7201a8"
             ],
             [
              0.3333333333333333,
              "#9c179e"
             ],
             [
              0.4444444444444444,
              "#bd3786"
             ],
             [
              0.5555555555555556,
              "#d8576b"
             ],
             [
              0.6666666666666666,
              "#ed7953"
             ],
             [
              0.7777777777777778,
              "#fb9f3a"
             ],
             [
              0.8888888888888888,
              "#fdca26"
             ],
             [
              1,
              "#f0f921"
             ]
            ],
            "type": "histogram2d"
           }
          ],
          "histogram2dcontour": [
           {
            "colorbar": {
             "outlinewidth": 0,
             "ticks": ""
            },
            "colorscale": [
             [
              0,
              "#0d0887"
             ],
             [
              0.1111111111111111,
              "#46039f"
             ],
             [
              0.2222222222222222,
              "#7201a8"
             ],
             [
              0.3333333333333333,
              "#9c179e"
             ],
             [
              0.4444444444444444,
              "#bd3786"
             ],
             [
              0.5555555555555556,
              "#d8576b"
             ],
             [
              0.6666666666666666,
              "#ed7953"
             ],
             [
              0.7777777777777778,
              "#fb9f3a"
             ],
             [
              0.8888888888888888,
              "#fdca26"
             ],
             [
              1,
              "#f0f921"
             ]
            ],
            "type": "histogram2dcontour"
           }
          ],
          "mesh3d": [
           {
            "colorbar": {
             "outlinewidth": 0,
             "ticks": ""
            },
            "type": "mesh3d"
           }
          ],
          "parcoords": [
           {
            "line": {
             "colorbar": {
              "outlinewidth": 0,
              "ticks": ""
             }
            },
            "type": "parcoords"
           }
          ],
          "pie": [
           {
            "automargin": true,
            "type": "pie"
           }
          ],
          "scatter": [
           {
            "fillpattern": {
             "fillmode": "overlay",
             "size": 10,
             "solidity": 0.2
            },
            "type": "scatter"
           }
          ],
          "scatter3d": [
           {
            "line": {
             "colorbar": {
              "outlinewidth": 0,
              "ticks": ""
             }
            },
            "marker": {
             "colorbar": {
              "outlinewidth": 0,
              "ticks": ""
             }
            },
            "type": "scatter3d"
           }
          ],
          "scattercarpet": [
           {
            "marker": {
             "colorbar": {
              "outlinewidth": 0,
              "ticks": ""
             }
            },
            "type": "scattercarpet"
           }
          ],
          "scattergeo": [
           {
            "marker": {
             "colorbar": {
              "outlinewidth": 0,
              "ticks": ""
             }
            },
            "type": "scattergeo"
           }
          ],
          "scattergl": [
           {
            "marker": {
             "colorbar": {
              "outlinewidth": 0,
              "ticks": ""
             }
            },
            "type": "scattergl"
           }
          ],
          "scattermap": [
           {
            "marker": {
             "colorbar": {
              "outlinewidth": 0,
              "ticks": ""
             }
            },
            "type": "scattermap"
           }
          ],
          "scattermapbox": [
           {
            "marker": {
             "colorbar": {
              "outlinewidth": 0,
              "ticks": ""
             }
            },
            "type": "scattermapbox"
           }
          ],
          "scatterpolar": [
           {
            "marker": {
             "colorbar": {
              "outlinewidth": 0,
              "ticks": ""
             }
            },
            "type": "scatterpolar"
           }
          ],
          "scatterpolargl": [
           {
            "marker": {
             "colorbar": {
              "outlinewidth": 0,
              "ticks": ""
             }
            },
            "type": "scatterpolargl"
           }
          ],
          "scatterternary": [
           {
            "marker": {
             "colorbar": {
              "outlinewidth": 0,
              "ticks": ""
             }
            },
            "type": "scatterternary"
           }
          ],
          "surface": [
           {
            "colorbar": {
             "outlinewidth": 0,
             "ticks": ""
            },
            "colorscale": [
             [
              0,
              "#0d0887"
             ],
             [
              0.1111111111111111,
              "#46039f"
             ],
             [
              0.2222222222222222,
              "#7201a8"
             ],
             [
              0.3333333333333333,
              "#9c179e"
             ],
             [
              0.4444444444444444,
              "#bd3786"
             ],
             [
              0.5555555555555556,
              "#d8576b"
             ],
             [
              0.6666666666666666,
              "#ed7953"
             ],
             [
              0.7777777777777778,
              "#fb9f3a"
             ],
             [
              0.8888888888888888,
              "#fdca26"
             ],
             [
              1,
              "#f0f921"
             ]
            ],
            "type": "surface"
           }
          ],
          "table": [
           {
            "cells": {
             "fill": {
              "color": "#EBF0F8"
             },
             "line": {
              "color": "white"
             }
            },
            "header": {
             "fill": {
              "color": "#C8D4E3"
             },
             "line": {
              "color": "white"
             }
            },
            "type": "table"
           }
          ]
         },
         "layout": {
          "annotationdefaults": {
           "arrowcolor": "#2a3f5f",
           "arrowhead": 0,
           "arrowwidth": 1
          },
          "autotypenumbers": "strict",
          "coloraxis": {
           "colorbar": {
            "outlinewidth": 0,
            "ticks": ""
           }
          },
          "colorscale": {
           "diverging": [
            [
             0,
             "#8e0152"
            ],
            [
             0.1,
             "#c51b7d"
            ],
            [
             0.2,
             "#de77ae"
            ],
            [
             0.3,
             "#f1b6da"
            ],
            [
             0.4,
             "#fde0ef"
            ],
            [
             0.5,
             "#f7f7f7"
            ],
            [
             0.6,
             "#e6f5d0"
            ],
            [
             0.7,
             "#b8e186"
            ],
            [
             0.8,
             "#7fbc41"
            ],
            [
             0.9,
             "#4d9221"
            ],
            [
             1,
             "#276419"
            ]
           ],
           "sequential": [
            [
             0,
             "#0d0887"
            ],
            [
             0.1111111111111111,
             "#46039f"
            ],
            [
             0.2222222222222222,
             "#7201a8"
            ],
            [
             0.3333333333333333,
             "#9c179e"
            ],
            [
             0.4444444444444444,
             "#bd3786"
            ],
            [
             0.5555555555555556,
             "#d8576b"
            ],
            [
             0.6666666666666666,
             "#ed7953"
            ],
            [
             0.7777777777777778,
             "#fb9f3a"
            ],
            [
             0.8888888888888888,
             "#fdca26"
            ],
            [
             1,
             "#f0f921"
            ]
           ],
           "sequentialminus": [
            [
             0,
             "#0d0887"
            ],
            [
             0.1111111111111111,
             "#46039f"
            ],
            [
             0.2222222222222222,
             "#7201a8"
            ],
            [
             0.3333333333333333,
             "#9c179e"
            ],
            [
             0.4444444444444444,
             "#bd3786"
            ],
            [
             0.5555555555555556,
             "#d8576b"
            ],
            [
             0.6666666666666666,
             "#ed7953"
            ],
            [
             0.7777777777777778,
             "#fb9f3a"
            ],
            [
             0.8888888888888888,
             "#fdca26"
            ],
            [
             1,
             "#f0f921"
            ]
           ]
          },
          "colorway": [
           "#636efa",
           "#EF553B",
           "#00cc96",
           "#ab63fa",
           "#FFA15A",
           "#19d3f3",
           "#FF6692",
           "#B6E880",
           "#FF97FF",
           "#FECB52"
          ],
          "font": {
           "color": "#2a3f5f"
          },
          "geo": {
           "bgcolor": "white",
           "lakecolor": "white",
           "landcolor": "#E5ECF6",
           "showlakes": true,
           "showland": true,
           "subunitcolor": "white"
          },
          "hoverlabel": {
           "align": "left"
          },
          "hovermode": "closest",
          "mapbox": {
           "style": "light"
          },
          "paper_bgcolor": "white",
          "plot_bgcolor": "#E5ECF6",
          "polar": {
           "angularaxis": {
            "gridcolor": "white",
            "linecolor": "white",
            "ticks": ""
           },
           "bgcolor": "#E5ECF6",
           "radialaxis": {
            "gridcolor": "white",
            "linecolor": "white",
            "ticks": ""
           }
          },
          "scene": {
           "xaxis": {
            "backgroundcolor": "#E5ECF6",
            "gridcolor": "white",
            "gridwidth": 2,
            "linecolor": "white",
            "showbackground": true,
            "ticks": "",
            "zerolinecolor": "white"
           },
           "yaxis": {
            "backgroundcolor": "#E5ECF6",
            "gridcolor": "white",
            "gridwidth": 2,
            "linecolor": "white",
            "showbackground": true,
            "ticks": "",
            "zerolinecolor": "white"
           },
           "zaxis": {
            "backgroundcolor": "#E5ECF6",
            "gridcolor": "white",
            "gridwidth": 2,
            "linecolor": "white",
            "showbackground": true,
            "ticks": "",
            "zerolinecolor": "white"
           }
          },
          "shapedefaults": {
           "line": {
            "color": "#2a3f5f"
           }
          },
          "ternary": {
           "aaxis": {
            "gridcolor": "white",
            "linecolor": "white",
            "ticks": ""
           },
           "baxis": {
            "gridcolor": "white",
            "linecolor": "white",
            "ticks": ""
           },
           "bgcolor": "#E5ECF6",
           "caxis": {
            "gridcolor": "white",
            "linecolor": "white",
            "ticks": ""
           }
          },
          "title": {
           "x": 0.05
          },
          "xaxis": {
           "automargin": true,
           "gridcolor": "white",
           "linecolor": "white",
           "ticks": "",
           "title": {
            "standoff": 15
           },
           "zerolinecolor": "white",
           "zerolinewidth": 2
          },
          "yaxis": {
           "automargin": true,
           "gridcolor": "white",
           "linecolor": "white",
           "ticks": "",
           "title": {
            "standoff": 15
           },
           "zerolinecolor": "white",
           "zerolinewidth": 2
          }
         }
        },
        "title": {
         "font": {
          "color": "darkblue",
          "size": 22
         },
         "text": "Executive Dashboard - Strategic Business Intelligence",
         "x": 0.5,
         "xanchor": "center"
        },
        "width": 1400,
        "xaxis": {
         "anchor": "y",
         "domain": [
          0,
          0.425
         ],
         "title": {
          "text": "Metrics"
         }
        },
        "xaxis2": {
         "anchor": "y2",
         "domain": [
          0.575,
          1
         ],
         "title": {
          "text": "Month"
         }
        },
        "xaxis3": {
         "anchor": "y3",
         "domain": [
          0,
          0.425
         ],
         "title": {
          "text": "Branch"
         }
        },
        "yaxis": {
         "anchor": "x",
         "domain": [
          0.6000000000000001,
          1
         ],
         "title": {
          "text": "Count"
         }
        },
        "yaxis2": {
         "anchor": "x2",
         "domain": [
          0.6000000000000001,
          1
         ],
         "title": {
          "text": "Loans"
         }
        },
        "yaxis3": {
         "anchor": "x3",
         "domain": [
          0,
          0.4
         ],
         "title": {
          "text": "Performance"
         }
        }
       }
      }
     },
     "metadata": {},
     "output_type": "display_data"
    },
    {
     "name": "stdout",
     "output_type": "stream",
     "text": [
      "✅ Executive Dashboard Complete - Strategic overview ready\n"
     ]
    }
   ],
   "source": [
    "# 🎯 Executive Dashboard - Strategic Business Intelligence\n",
    "\n",
    "# Create Executive Dashboard with optimized 2x2 layout\n",
    "fig_executive = make_subplots(\n",
    "    rows=2, cols=2,\n",
    "    subplot_titles=[\n",
    "        'Key Performance Indicators', \n",
    "        'Monthly Growth Trends',\n",
    "        'Branch Performance Analysis', \n",
    "        'Collection Distribution'\n",
    "    ],\n",
    "    vertical_spacing=0.20,    # Optimized spacing\n",
    "    horizontal_spacing=0.15,\n",
    "    specs=[\n",
    "        [{\"type\": \"bar\"}, {\"type\": \"scatter\"}],\n",
    "        [{\"type\": \"bar\"}, {\"type\": \"pie\"}]\n",
    "    ]\n",
    ")\n",
    "\n",
    "# Strategic executive data\n",
    "kpi_categories = ['Total Members', 'Active Loans', 'Total Books', 'Staff Count']\n",
    "kpi_values = [1250, 456, 5200, 25]\n",
    "kpi_colors = ['#1f77b4', '#ff7f0e', '#2ca02c', '#d62728']\n",
    "\n",
    "months = ['Jan', 'Feb', 'Mar', 'Apr', 'May', 'Jun']\n",
    "loans = [1200, 1350, 1480, 1520, 1600, 1650]\n",
    "\n",
    "branches = ['Main', 'North', 'South', 'East', 'West']\n",
    "performance = [3000, 2800, 2500, 3200, 3500]\n",
    "\n",
    "categories = ['Fiction', 'Non-Fiction', 'Science', 'History', 'Children']\n",
    "values = [3500, 2100, 1800, 1500, 1200]\n",
    "\n",
    "# Chart 1: KPI Overview (Top Left)\n",
    "fig_executive.add_trace(\n",
    "    go.Bar(\n",
    "        x=kpi_categories,\n",
    "        y=kpi_values,\n",
    "        marker_color=kpi_colors,\n",
    "        text=kpi_values,\n",
    "        textposition='auto',\n",
    "        showlegend=False\n",
    "    ),\n",
    "    row=1, col=1\n",
    ")\n",
    "\n",
    "# Chart 2: Growth Trends (Top Right)\n",
    "fig_executive.add_trace(\n",
    "    go.Scatter(\n",
    "        x=months,\n",
    "        y=loans,\n",
    "        mode='lines+markers',\n",
    "        line=dict(color='#1f77b4', width=3),\n",
    "        marker=dict(size=8),\n",
    "        fill='tonexty',\n",
    "        fillcolor='rgba(31, 119, 180, 0.2)',\n",
    "        showlegend=False\n",
    "    ),\n",
    "    row=1, col=2\n",
    ")\n",
    "\n",
    "# Chart 3: Branch Performance (Bottom Left)\n",
    "fig_executive.add_trace(\n",
    "    go.Bar(\n",
    "        x=branches,\n",
    "        y=performance,\n",
    "        marker_color=['#ff7f0e', '#2ca02c', '#d62728', '#9467bd', '#8c564b'],\n",
    "        text=performance,\n",
    "        textposition='auto',\n",
    "        showlegend=False\n",
    "    ),\n",
    "    row=2, col=1\n",
    ")\n",
    "\n",
    "# Chart 4: Collection Distribution (Bottom Right)\n",
    "fig_executive.add_trace(\n",
    "    go.Pie(\n",
    "        labels=categories,\n",
    "        values=values,\n",
    "        hole=0.4,\n",
    "        marker_colors=['#1f77b4', '#ff7f0e', '#2ca02c', '#d62728', '#9467bd'],\n",
    "        showlegend=False\n",
    "    ),\n",
    "    row=2, col=2\n",
    ")\n",
    "\n",
    "# Professional layout configuration\n",
    "fig_executive.update_layout(\n",
    "    title={\n",
    "        'text': 'Executive Dashboard - Strategic Business Intelligence',\n",
    "        'x': 0.5,\n",
    "        'xanchor': 'center',\n",
    "        'font': {'size': 22, 'color': 'darkblue'}\n",
    "    },\n",
    "    height=800,\n",
    "    width=1400,\n",
    "    showlegend=False,\n",
    "    plot_bgcolor='white',\n",
    "    paper_bgcolor='#f8f9fa',\n",
    "    margin=dict(l=60, r=60, t=100, b=60)\n",
    ")\n",
    "\n",
    "# Axis labels\n",
    "fig_executive.update_xaxes(title_text=\"Metrics\", row=1, col=1)\n",
    "fig_executive.update_yaxes(title_text=\"Count\", row=1, col=1)\n",
    "fig_executive.update_xaxes(title_text=\"Month\", row=1, col=2)\n",
    "fig_executive.update_yaxes(title_text=\"Loans\", row=1, col=2)\n",
    "fig_executive.update_xaxes(title_text=\"Branch\", row=2, col=1)\n",
    "fig_executive.update_yaxes(title_text=\"Performance\", row=2, col=1)\n",
    "\n",
    "fig_executive.show()\n",
    "\n",
    "print(\"✅ Executive Dashboard Complete - Strategic overview ready\")"
   ]
  },
  {
   "cell_type": "markdown",
   "id": "b8ed7e74",
   "metadata": {},
   "source": [
    "## 📈 **Operational Dashboard - Daily Operations**\n",
    "\n",
    "Comprehensive 2x3 layout for operational monitoring with real-time metrics, staff performance, member activity, inventory status, service tracking, and financial overview."
   ]
  },
  {
   "cell_type": "code",
   "execution_count": 3,
   "id": "9a606ed9",
   "metadata": {},
   "outputs": [
    {
     "data": {
      "application/vnd.plotly.v1+json": {
       "config": {
        "plotlyServerURL": "https://plot.ly"
       },
       "data": [
        {
         "marker": {
          "color": "#1f77b4"
         },
         "showlegend": false,
         "text": [
          "45",
          "78",
          "65",
          "89",
          "92",
          "67"
         ],
         "textposition": "auto",
         "type": "bar",
         "x": [
          "9AM",
          "11AM",
          "1PM",
          "3PM",
          "5PM",
          "7PM"
         ],
         "xaxis": "x",
         "y": [
          45,
          78,
          65,
          89,
          92,
          67
         ],
         "yaxis": "y"
        },
        {
         "marker": {
          "color": [
           "#ff7f0e",
           "#2ca02c",
           "#d62728",
           "#9467bd",
           "#8c564b"
          ]
         },
         "showlegend": false,
         "text": [
          "23",
          "31",
          "28",
          "35",
          "29"
         ],
         "textposition": "auto",
         "type": "bar",
         "x": [
          "Alice",
          "Bob",
          "Carol",
          "Dave",
          "Eve"
         ],
         "xaxis": "x2",
         "y": [
          23,
          31,
          28,
          35,
          29
         ],
         "yaxis": "y2"
        },
        {
         "cells": {
          "fill": {
           "color": "#f8f9fa"
          },
          "font": {
           "size": 11
          },
          "values": [
           [
            "Active Today",
            "New Registrations",
            "Returns Due"
           ],
           [
            142,
            8,
            67
           ],
           [
            "68%",
            "4%",
            "32%"
           ]
          ]
         },
         "domain": {
          "x": [
           0.7466666666666667,
           1
          ],
          "y": [
           0.625,
           1
          ]
         },
         "header": {
          "fill": {
           "color": "#1f77b4"
          },
          "font": {
           "color": "white",
           "size": 12
          },
          "values": [
           "Status",
           "Count",
           "Percentage"
          ]
         },
         "type": "table"
        },
        {
         "domain": {
          "x": [
           0,
           0.25333333333333335
          ],
          "y": [
           0,
           0.375
          ]
         },
         "hole": 0.3,
         "labels": [
          "Available",
          "Checked Out",
          "Reserved",
          "Overdue"
         ],
         "marker": {
          "colors": [
           "#2ca02c",
           "#ff7f0e",
           "#1f77b4",
           "#d62728"
          ]
         },
         "showlegend": false,
         "type": "pie",
         "values": [
          3200,
          1800,
          450,
          180
         ]
        },
        {
         "domain": {
          "x": [
           0.37333333333333335,
           0.6266666666666667
          ],
          "y": [
           0,
           0.375
          ]
         },
         "gauge": {
          "axis": {
           "range": [
            null,
            50
           ]
          },
          "bar": {
           "color": "darkblue"
          },
          "steps": [
           {
            "color": "lightgray",
            "range": [
             0,
             50
            ]
           }
          ],
          "threshold": {
           "line": {
            "color": "red",
            "width": 4
           },
           "thickness": 0.75,
           "value": 25
          }
         },
         "mode": "gauge+number",
         "title": {
          "text": "Queue Length"
         },
         "type": "indicator",
         "value": 12
        },
        {
         "line": {
          "color": "#2ca02c",
          "width": 3
         },
         "marker": {
          "size": 8
         },
         "mode": "lines+markers",
         "showlegend": false,
         "type": "scatter",
         "x": [
          "Jan",
          "Feb",
          "Mar",
          "Apr",
          "May"
         ],
         "xaxis": "x3",
         "y": [
          4500,
          5200,
          4800,
          5800,
          6100
         ],
         "yaxis": "y3"
        }
       ],
       "layout": {
        "annotations": [
         {
          "font": {
           "size": 16
          },
          "showarrow": false,
          "text": "Daily Loan Activity",
          "x": 0.12666666666666668,
          "xanchor": "center",
          "xref": "paper",
          "y": 1,
          "yanchor": "bottom",
          "yref": "paper"
         },
         {
          "font": {
           "size": 16
          },
          "showarrow": false,
          "text": "Staff Performance",
          "x": 0.5,
          "xanchor": "center",
          "xref": "paper",
          "y": 1,
          "yanchor": "bottom",
          "yref": "paper"
         },
         {
          "font": {
           "size": 16
          },
          "showarrow": false,
          "text": "Member Activity Status",
          "x": 0.8733333333333333,
          "xanchor": "center",
          "xref": "paper",
          "y": 1,
          "yanchor": "bottom",
          "yref": "paper"
         },
         {
          "font": {
           "size": 16
          },
          "showarrow": false,
          "text": "Inventory Overview",
          "x": 0.12666666666666668,
          "xanchor": "center",
          "xref": "paper",
          "y": 0.375,
          "yanchor": "bottom",
          "yref": "paper"
         },
         {
          "font": {
           "size": 16
          },
          "showarrow": false,
          "text": "Service Queue",
          "x": 0.5,
          "xanchor": "center",
          "xref": "paper",
          "y": 0.375,
          "yanchor": "bottom",
          "yref": "paper"
         },
         {
          "font": {
           "size": 16
          },
          "showarrow": false,
          "text": "Revenue Tracking",
          "x": 0.8733333333333333,
          "xanchor": "center",
          "xref": "paper",
          "y": 0.375,
          "yanchor": "bottom",
          "yref": "paper"
         }
        ],
        "height": 800,
        "margin": {
         "b": 50,
         "l": 50,
         "r": 50,
         "t": 100
        },
        "paper_bgcolor": "#f8f9fa",
        "plot_bgcolor": "white",
        "showlegend": false,
        "template": {
         "data": {
          "bar": [
           {
            "error_x": {
             "color": "#2a3f5f"
            },
            "error_y": {
             "color": "#2a3f5f"
            },
            "marker": {
             "line": {
              "color": "#E5ECF6",
              "width": 0.5
             },
             "pattern": {
              "fillmode": "overlay",
              "size": 10,
              "solidity": 0.2
             }
            },
            "type": "bar"
           }
          ],
          "barpolar": [
           {
            "marker": {
             "line": {
              "color": "#E5ECF6",
              "width": 0.5
             },
             "pattern": {
              "fillmode": "overlay",
              "size": 10,
              "solidity": 0.2
             }
            },
            "type": "barpolar"
           }
          ],
          "carpet": [
           {
            "aaxis": {
             "endlinecolor": "#2a3f5f",
             "gridcolor": "white",
             "linecolor": "white",
             "minorgridcolor": "white",
             "startlinecolor": "#2a3f5f"
            },
            "baxis": {
             "endlinecolor": "#2a3f5f",
             "gridcolor": "white",
             "linecolor": "white",
             "minorgridcolor": "white",
             "startlinecolor": "#2a3f5f"
            },
            "type": "carpet"
           }
          ],
          "choropleth": [
           {
            "colorbar": {
             "outlinewidth": 0,
             "ticks": ""
            },
            "type": "choropleth"
           }
          ],
          "contour": [
           {
            "colorbar": {
             "outlinewidth": 0,
             "ticks": ""
            },
            "colorscale": [
             [
              0,
              "#0d0887"
             ],
             [
              0.1111111111111111,
              "#46039f"
             ],
             [
              0.2222222222222222,
              "#7201a8"
             ],
             [
              0.3333333333333333,
              "#9c179e"
             ],
             [
              0.4444444444444444,
              "#bd3786"
             ],
             [
              0.5555555555555556,
              "#d8576b"
             ],
             [
              0.6666666666666666,
              "#ed7953"
             ],
             [
              0.7777777777777778,
              "#fb9f3a"
             ],
             [
              0.8888888888888888,
              "#fdca26"
             ],
             [
              1,
              "#f0f921"
             ]
            ],
            "type": "contour"
           }
          ],
          "contourcarpet": [
           {
            "colorbar": {
             "outlinewidth": 0,
             "ticks": ""
            },
            "type": "contourcarpet"
           }
          ],
          "heatmap": [
           {
            "colorbar": {
             "outlinewidth": 0,
             "ticks": ""
            },
            "colorscale": [
             [
              0,
              "#0d0887"
             ],
             [
              0.1111111111111111,
              "#46039f"
             ],
             [
              0.2222222222222222,
              "#7201a8"
             ],
             [
              0.3333333333333333,
              "#9c179e"
             ],
             [
              0.4444444444444444,
              "#bd3786"
             ],
             [
              0.5555555555555556,
              "#d8576b"
             ],
             [
              0.6666666666666666,
              "#ed7953"
             ],
             [
              0.7777777777777778,
              "#fb9f3a"
             ],
             [
              0.8888888888888888,
              "#fdca26"
             ],
             [
              1,
              "#f0f921"
             ]
            ],
            "type": "heatmap"
           }
          ],
          "histogram": [
           {
            "marker": {
             "pattern": {
              "fillmode": "overlay",
              "size": 10,
              "solidity": 0.2
             }
            },
            "type": "histogram"
           }
          ],
          "histogram2d": [
           {
            "colorbar": {
             "outlinewidth": 0,
             "ticks": ""
            },
            "colorscale": [
             [
              0,
              "#0d0887"
             ],
             [
              0.1111111111111111,
              "#46039f"
             ],
             [
              0.2222222222222222,
              "#7201a8"
             ],
             [
              0.3333333333333333,
              "#9c179e"
             ],
             [
              0.4444444444444444,
              "#bd3786"
             ],
             [
              0.5555555555555556,
              "#d8576b"
             ],
             [
              0.6666666666666666,
              "#ed7953"
             ],
             [
              0.7777777777777778,
              "#fb9f3a"
             ],
             [
              0.8888888888888888,
              "#fdca26"
             ],
             [
              1,
              "#f0f921"
             ]
            ],
            "type": "histogram2d"
           }
          ],
          "histogram2dcontour": [
           {
            "colorbar": {
             "outlinewidth": 0,
             "ticks": ""
            },
            "colorscale": [
             [
              0,
              "#0d0887"
             ],
             [
              0.1111111111111111,
              "#46039f"
             ],
             [
              0.2222222222222222,
              "#7201a8"
             ],
             [
              0.3333333333333333,
              "#9c179e"
             ],
             [
              0.4444444444444444,
              "#bd3786"
             ],
             [
              0.5555555555555556,
              "#d8576b"
             ],
             [
              0.6666666666666666,
              "#ed7953"
             ],
             [
              0.7777777777777778,
              "#fb9f3a"
             ],
             [
              0.8888888888888888,
              "#fdca26"
             ],
             [
              1,
              "#f0f921"
             ]
            ],
            "type": "histogram2dcontour"
           }
          ],
          "mesh3d": [
           {
            "colorbar": {
             "outlinewidth": 0,
             "ticks": ""
            },
            "type": "mesh3d"
           }
          ],
          "parcoords": [
           {
            "line": {
             "colorbar": {
              "outlinewidth": 0,
              "ticks": ""
             }
            },
            "type": "parcoords"
           }
          ],
          "pie": [
           {
            "automargin": true,
            "type": "pie"
           }
          ],
          "scatter": [
           {
            "fillpattern": {
             "fillmode": "overlay",
             "size": 10,
             "solidity": 0.2
            },
            "type": "scatter"
           }
          ],
          "scatter3d": [
           {
            "line": {
             "colorbar": {
              "outlinewidth": 0,
              "ticks": ""
             }
            },
            "marker": {
             "colorbar": {
              "outlinewidth": 0,
              "ticks": ""
             }
            },
            "type": "scatter3d"
           }
          ],
          "scattercarpet": [
           {
            "marker": {
             "colorbar": {
              "outlinewidth": 0,
              "ticks": ""
             }
            },
            "type": "scattercarpet"
           }
          ],
          "scattergeo": [
           {
            "marker": {
             "colorbar": {
              "outlinewidth": 0,
              "ticks": ""
             }
            },
            "type": "scattergeo"
           }
          ],
          "scattergl": [
           {
            "marker": {
             "colorbar": {
              "outlinewidth": 0,
              "ticks": ""
             }
            },
            "type": "scattergl"
           }
          ],
          "scattermap": [
           {
            "marker": {
             "colorbar": {
              "outlinewidth": 0,
              "ticks": ""
             }
            },
            "type": "scattermap"
           }
          ],
          "scattermapbox": [
           {
            "marker": {
             "colorbar": {
              "outlinewidth": 0,
              "ticks": ""
             }
            },
            "type": "scattermapbox"
           }
          ],
          "scatterpolar": [
           {
            "marker": {
             "colorbar": {
              "outlinewidth": 0,
              "ticks": ""
             }
            },
            "type": "scatterpolar"
           }
          ],
          "scatterpolargl": [
           {
            "marker": {
             "colorbar": {
              "outlinewidth": 0,
              "ticks": ""
             }
            },
            "type": "scatterpolargl"
           }
          ],
          "scatterternary": [
           {
            "marker": {
             "colorbar": {
              "outlinewidth": 0,
              "ticks": ""
             }
            },
            "type": "scatterternary"
           }
          ],
          "surface": [
           {
            "colorbar": {
             "outlinewidth": 0,
             "ticks": ""
            },
            "colorscale": [
             [
              0,
              "#0d0887"
             ],
             [
              0.1111111111111111,
              "#46039f"
             ],
             [
              0.2222222222222222,
              "#7201a8"
             ],
             [
              0.3333333333333333,
              "#9c179e"
             ],
             [
              0.4444444444444444,
              "#bd3786"
             ],
             [
              0.5555555555555556,
              "#d8576b"
             ],
             [
              0.6666666666666666,
              "#ed7953"
             ],
             [
              0.7777777777777778,
              "#fb9f3a"
             ],
             [
              0.8888888888888888,
              "#fdca26"
             ],
             [
              1,
              "#f0f921"
             ]
            ],
            "type": "surface"
           }
          ],
          "table": [
           {
            "cells": {
             "fill": {
              "color": "#EBF0F8"
             },
             "line": {
              "color": "white"
             }
            },
            "header": {
             "fill": {
              "color": "#C8D4E3"
             },
             "line": {
              "color": "white"
             }
            },
            "type": "table"
           }
          ]
         },
         "layout": {
          "annotationdefaults": {
           "arrowcolor": "#2a3f5f",
           "arrowhead": 0,
           "arrowwidth": 1
          },
          "autotypenumbers": "strict",
          "coloraxis": {
           "colorbar": {
            "outlinewidth": 0,
            "ticks": ""
           }
          },
          "colorscale": {
           "diverging": [
            [
             0,
             "#8e0152"
            ],
            [
             0.1,
             "#c51b7d"
            ],
            [
             0.2,
             "#de77ae"
            ],
            [
             0.3,
             "#f1b6da"
            ],
            [
             0.4,
             "#fde0ef"
            ],
            [
             0.5,
             "#f7f7f7"
            ],
            [
             0.6,
             "#e6f5d0"
            ],
            [
             0.7,
             "#b8e186"
            ],
            [
             0.8,
             "#7fbc41"
            ],
            [
             0.9,
             "#4d9221"
            ],
            [
             1,
             "#276419"
            ]
           ],
           "sequential": [
            [
             0,
             "#0d0887"
            ],
            [
             0.1111111111111111,
             "#46039f"
            ],
            [
             0.2222222222222222,
             "#7201a8"
            ],
            [
             0.3333333333333333,
             "#9c179e"
            ],
            [
             0.4444444444444444,
             "#bd3786"
            ],
            [
             0.5555555555555556,
             "#d8576b"
            ],
            [
             0.6666666666666666,
             "#ed7953"
            ],
            [
             0.7777777777777778,
             "#fb9f3a"
            ],
            [
             0.8888888888888888,
             "#fdca26"
            ],
            [
             1,
             "#f0f921"
            ]
           ],
           "sequentialminus": [
            [
             0,
             "#0d0887"
            ],
            [
             0.1111111111111111,
             "#46039f"
            ],
            [
             0.2222222222222222,
             "#7201a8"
            ],
            [
             0.3333333333333333,
             "#9c179e"
            ],
            [
             0.4444444444444444,
             "#bd3786"
            ],
            [
             0.5555555555555556,
             "#d8576b"
            ],
            [
             0.6666666666666666,
             "#ed7953"
            ],
            [
             0.7777777777777778,
             "#fb9f3a"
            ],
            [
             0.8888888888888888,
             "#fdca26"
            ],
            [
             1,
             "#f0f921"
            ]
           ]
          },
          "colorway": [
           "#636efa",
           "#EF553B",
           "#00cc96",
           "#ab63fa",
           "#FFA15A",
           "#19d3f3",
           "#FF6692",
           "#B6E880",
           "#FF97FF",
           "#FECB52"
          ],
          "font": {
           "color": "#2a3f5f"
          },
          "geo": {
           "bgcolor": "white",
           "lakecolor": "white",
           "landcolor": "#E5ECF6",
           "showlakes": true,
           "showland": true,
           "subunitcolor": "white"
          },
          "hoverlabel": {
           "align": "left"
          },
          "hovermode": "closest",
          "mapbox": {
           "style": "light"
          },
          "paper_bgcolor": "white",
          "plot_bgcolor": "#E5ECF6",
          "polar": {
           "angularaxis": {
            "gridcolor": "white",
            "linecolor": "white",
            "ticks": ""
           },
           "bgcolor": "#E5ECF6",
           "radialaxis": {
            "gridcolor": "white",
            "linecolor": "white",
            "ticks": ""
           }
          },
          "scene": {
           "xaxis": {
            "backgroundcolor": "#E5ECF6",
            "gridcolor": "white",
            "gridwidth": 2,
            "linecolor": "white",
            "showbackground": true,
            "ticks": "",
            "zerolinecolor": "white"
           },
           "yaxis": {
            "backgroundcolor": "#E5ECF6",
            "gridcolor": "white",
            "gridwidth": 2,
            "linecolor": "white",
            "showbackground": true,
            "ticks": "",
            "zerolinecolor": "white"
           },
           "zaxis": {
            "backgroundcolor": "#E5ECF6",
            "gridcolor": "white",
            "gridwidth": 2,
            "linecolor": "white",
            "showbackground": true,
            "ticks": "",
            "zerolinecolor": "white"
           }
          },
          "shapedefaults": {
           "line": {
            "color": "#2a3f5f"
           }
          },
          "ternary": {
           "aaxis": {
            "gridcolor": "white",
            "linecolor": "white",
            "ticks": ""
           },
           "baxis": {
            "gridcolor": "white",
            "linecolor": "white",
            "ticks": ""
           },
           "bgcolor": "#E5ECF6",
           "caxis": {
            "gridcolor": "white",
            "linecolor": "white",
            "ticks": ""
           }
          },
          "title": {
           "x": 0.05
          },
          "xaxis": {
           "automargin": true,
           "gridcolor": "white",
           "linecolor": "white",
           "ticks": "",
           "title": {
            "standoff": 15
           },
           "zerolinecolor": "white",
           "zerolinewidth": 2
          },
          "yaxis": {
           "automargin": true,
           "gridcolor": "white",
           "linecolor": "white",
           "ticks": "",
           "title": {
            "standoff": 15
           },
           "zerolinecolor": "white",
           "zerolinewidth": 2
          }
         }
        },
        "title": {
         "font": {
          "color": "darkgreen",
          "size": 20
         },
         "text": "Operational Dashboard - Daily Operations Management",
         "x": 0.5,
         "xanchor": "center"
        },
        "width": 1500,
        "xaxis": {
         "anchor": "y",
         "domain": [
          0,
          0.25333333333333335
         ],
         "title": {
          "text": "Time"
         }
        },
        "xaxis2": {
         "anchor": "y2",
         "domain": [
          0.37333333333333335,
          0.6266666666666667
         ],
         "title": {
          "text": "Staff"
         }
        },
        "xaxis3": {
         "anchor": "y3",
         "domain": [
          0.7466666666666667,
          1
         ],
         "title": {
          "text": "Month"
         }
        },
        "yaxis": {
         "anchor": "x",
         "domain": [
          0.625,
          1
         ],
         "title": {
          "text": "Loans"
         }
        },
        "yaxis2": {
         "anchor": "x2",
         "domain": [
          0.625,
          1
         ],
         "title": {
          "text": "Processed"
         }
        },
        "yaxis3": {
         "anchor": "x3",
         "domain": [
          0,
          0.375
         ],
         "title": {
          "text": "Revenue ($)"
         }
        }
       }
      }
     },
     "metadata": {},
     "output_type": "display_data"
    },
    {
     "name": "stdout",
     "output_type": "stream",
     "text": [
      "✅ Operational Dashboard Complete - Daily operations monitoring ready\n"
     ]
    }
   ],
   "source": [
    "# 📈 Operational Dashboard - Daily Operations Management\n",
    "\n",
    "# Create Operational Dashboard with 2x3 layout\n",
    "fig_operational = make_subplots(\n",
    "    rows=2, cols=3,\n",
    "    subplot_titles=[\n",
    "        'Daily Loan Activity', 'Staff Performance',\n",
    "        'Member Activity Status', 'Inventory Overview',\n",
    "        'Service Queue', 'Revenue Tracking'\n",
    "    ],\n",
    "    vertical_spacing=0.25,    # Extra spacing for readability\n",
    "    horizontal_spacing=0.12,\n",
    "    specs=[\n",
    "        [{\"type\": \"bar\"}, {\"type\": \"bar\"}, {\"type\": \"table\"}],\n",
    "        [{\"type\": \"pie\"}, {\"type\": \"indicator\"}, {\"type\": \"scatter\"}]\n",
    "    ]\n",
    ")\n",
    "\n",
    "# Operational data\n",
    "daily_hours = ['9AM', '11AM', '1PM', '3PM', '5PM', '7PM']\n",
    "hourly_loans = [45, 78, 65, 89, 92, 67]\n",
    "\n",
    "staff_names = ['Alice', 'Bob', 'Carol', 'Dave', 'Eve']\n",
    "loans_processed = [23, 31, 28, 35, 29]\n",
    "\n",
    "inventory_status = ['Available', 'Checked Out', 'Reserved', 'Overdue']\n",
    "inventory_counts = [3200, 1800, 450, 180]\n",
    "\n",
    "revenue_months = ['Jan', 'Feb', 'Mar', 'Apr', 'May']\n",
    "revenue_data = [4500, 5200, 4800, 5800, 6100]\n",
    "\n",
    "# Chart 1: Daily Activity (Top Left)\n",
    "fig_operational.add_trace(\n",
    "    go.Bar(\n",
    "        x=daily_hours,\n",
    "        y=hourly_loans,\n",
    "        marker_color='#1f77b4',\n",
    "        text=hourly_loans,\n",
    "        textposition='auto',\n",
    "        showlegend=False\n",
    "    ),\n",
    "    row=1, col=1\n",
    ")\n",
    "\n",
    "# Chart 2: Staff Performance (Top Middle)\n",
    "fig_operational.add_trace(\n",
    "    go.Bar(\n",
    "        x=staff_names,\n",
    "        y=loans_processed,\n",
    "        marker_color=['#ff7f0e', '#2ca02c', '#d62728', '#9467bd', '#8c564b'],\n",
    "        text=loans_processed,\n",
    "        textposition='auto',\n",
    "        showlegend=False\n",
    "    ),\n",
    "    row=1, col=2\n",
    ")\n",
    "\n",
    "# Chart 3: Member Activity Table (Top Right)\n",
    "fig_operational.add_trace(\n",
    "    go.Table(\n",
    "        header=dict(\n",
    "            values=['Status', 'Count', 'Percentage'],\n",
    "            fill_color='#1f77b4',\n",
    "            font=dict(color='white', size=12)\n",
    "        ),\n",
    "        cells=dict(\n",
    "            values=[\n",
    "                ['Active Today', 'New Registrations', 'Returns Due'],\n",
    "                [142, 8, 67],\n",
    "                ['68%', '4%', '32%']\n",
    "            ],\n",
    "            fill_color='#f8f9fa',\n",
    "            font=dict(size=11)\n",
    "        )\n",
    "    ),\n",
    "    row=1, col=3\n",
    ")\n",
    "\n",
    "# Chart 4: Inventory Status (Bottom Left)\n",
    "fig_operational.add_trace(\n",
    "    go.Pie(\n",
    "        labels=inventory_status,\n",
    "        values=inventory_counts,\n",
    "        hole=0.3,\n",
    "        marker_colors=['#2ca02c', '#ff7f0e', '#1f77b4', '#d62728'],\n",
    "        showlegend=False\n",
    "    ),\n",
    "    row=2, col=1\n",
    ")\n",
    "\n",
    "# Chart 5: Service Queue Indicator (Bottom Middle)\n",
    "fig_operational.add_trace(\n",
    "    go.Indicator(\n",
    "        mode=\"gauge+number\",\n",
    "        value=12,\n",
    "        title={\"text\": \"Queue Length\"},\n",
    "        gauge={'axis': {'range': [None, 50]},\n",
    "               'bar': {'color': \"darkblue\"},\n",
    "               'steps': [{'color': \"lightgray\", 'range': [0, 50]}],\n",
    "               'threshold': {'line': {'color': \"red\", 'width': 4},\n",
    "                           'thickness': 0.75, 'value': 25}}\n",
    "    ),\n",
    "    row=2, col=2\n",
    ")\n",
    "\n",
    "# Chart 6: Revenue Trend (Bottom Right)\n",
    "fig_operational.add_trace(\n",
    "    go.Scatter(\n",
    "        x=revenue_months,\n",
    "        y=revenue_data,\n",
    "        mode='lines+markers',\n",
    "        line=dict(color='#2ca02c', width=3),\n",
    "        marker=dict(size=8),\n",
    "        showlegend=False\n",
    "    ),\n",
    "    row=2, col=3\n",
    ")\n",
    "\n",
    "# Operational layout configuration\n",
    "fig_operational.update_layout(\n",
    "    title={\n",
    "        'text': 'Operational Dashboard - Daily Operations Management',\n",
    "        'x': 0.5,\n",
    "        'xanchor': 'center',\n",
    "        'font': {'size': 20, 'color': 'darkgreen'}\n",
    "    },\n",
    "    height=800,\n",
    "    width=1500,\n",
    "    showlegend=False,\n",
    "    plot_bgcolor='white',\n",
    "    paper_bgcolor='#f8f9fa',\n",
    "    margin=dict(l=50, r=50, t=100, b=50)\n",
    ")\n",
    "\n",
    "# Update axis labels\n",
    "fig_operational.update_xaxes(title_text=\"Time\", row=1, col=1)\n",
    "fig_operational.update_yaxes(title_text=\"Loans\", row=1, col=1)\n",
    "fig_operational.update_xaxes(title_text=\"Staff\", row=1, col=2)\n",
    "fig_operational.update_yaxes(title_text=\"Processed\", row=1, col=2)\n",
    "fig_operational.update_xaxes(title_text=\"Month\", row=2, col=3)\n",
    "fig_operational.update_yaxes(title_text=\"Revenue ($)\", row=2, col=3)\n",
    "\n",
    "fig_operational.show()\n",
    "\n",
    "print(\"✅ Operational Dashboard Complete - Daily operations monitoring ready\")"
   ]
  },
  {
   "cell_type": "markdown",
   "id": "d0b4fbf6",
   "metadata": {},
   "source": [
    "## 🧠 **Analytics Dashboard - Business Intelligence**\n",
    "\n",
    "Advanced 3x2 layout featuring predictive analytics, member behavior insights, collection performance metrics, and data-driven recommendations."
   ]
  },
  {
   "cell_type": "code",
   "execution_count": 4,
   "id": "c1ac8d36",
   "metadata": {},
   "outputs": [
    {
     "data": {
      "application/vnd.plotly.v1+json": {
       "config": {
        "plotlyServerURL": "https://plot.ly"
       },
       "data": [
        {
         "marker": {
          "color": {
           "bdata": "haGvXkr8REBOAR1ZSCk3QH6SHMtZky1A2s/eU0FNNUCM0stmAw0CQCHe9/+jODtA9O5OQQNiNkCF7IrCD4VIQBNUvforfUFATCrXxqZ/QEAMii/mflI/QIrcTEvd9zxADYcfLxpFRECJFJKeUHJFQNTIjZg6vyhATXtLEhPuNkAHgPEdfj8gQJPabJ199z1AqopKshPLBUBXF06RiDAyQHBY5TkjcC9AHZSQNGbEO0CdRwAoejIsQC8SoqrPnj5A5zDMJNLxJ0Cm8rWFu/xIQPaSW8vLBkFA9lY55SaJR0CG2z4W89szQJ4m34cfIThA8T0ymcDxQ0CGV2XW0Kc6QMiJuiqmIDRAzhUUj72nFkBRoVQKxFcxQDTn+t+npUBAEXDNpzuAIUCpgSNaQM5HQOFClHTTrURAdLObhD/dMEBGl52k6HcoQPf8VyPspz9AJ0MYvZBQHkDJR0v3Mck4QCZOR9e8Si9AdJuLiN4KRkBuzoDucWVJQAylc7U6RzdAJvTOI4cBSUBTGp/wA2ZAQP+269lIpShAa0mC6KVD6z81TxElQw8nQEfTpXr93TBAV8wydnzzFEAMx8OauTxBQOet+362UjtApHRWcjBbK0D2HqOsEZJIQA38ECN8EiVAPoPWDdK9AEDz3LcTJPVBQB0t737RdzdAJR2NZ6vdEEAglkATVwI9QJkY56HRxxNAUNPHmFf/REB6n6rKUDBFQDLwPSr8OidAPPnfJgAlPUAs+O7Xpw0ZQG0o+AodjzZA40e52KNXEUCpv/MLcrNHQDXkLLYXgiBA9DLO5wPQQUB/sIWK3jcyQG3J7a8UD0RAuQeJ9/QEQEDBftxcwKA7QGrpA1namj9AdNshSLQ9QECgtB1KaBdLQLwYWLgBpUZAwvX/LJmFIEByKnKd3o8TQIT5rKE5nzpAEox4o/i0QEAFjw7vfQUdQJk4Ebjpn0FAtI/NJ9VWNkB0La2Nifz8P/Rj1xo3FjZADps3A7YF8j/y8Yk57s9BQCN/OGrUICRArlPTlH5PRUBMFHhSeI0wQIyv9UzilkRAof5HHWUjPkA=",
           "dtype": "f8"
          },
          "colorscale": [
           [
            0,
            "#440154"
           ],
           [
            0.1111111111111111,
            "#482878"
           ],
           [
            0.2222222222222222,
            "#3e4989"
           ],
           [
            0.3333333333333333,
            "#31688e"
           ],
           [
            0.4444444444444444,
            "#26828e"
           ],
           [
            0.5555555555555556,
            "#1f9e89"
           ],
           [
            0.6666666666666666,
            "#35b779"
           ],
           [
            0.7777777777777778,
            "#6ece58"
           ],
           [
            0.8888888888888888,
            "#b5de2b"
           ],
           [
            1,
            "#fde725"
           ]
          ],
          "showscale": false,
          "size": 8
         },
         "mode": "markers",
         "showlegend": false,
         "type": "scatter",
         "x": {
          "bdata": "KBsNEwIfGzAfIiYaJyYMFgcbAxMPGw4cDCsnKhcWLB0ZBRElCS8uDwsbCRsQLC8UKiMOAQoSBiUXDy4LAh8UBBoFMSUMIgcZBDEIIhYsIR0kHy4xBwUeIQknGQITAScLKREuHg==",
          "dtype": "i1"
         },
         "xaxis": "x",
         "y": {
          "bdata": "haGvXkr8REBOAR1ZSCk3QH6SHMtZky1A2s/eU0FNNUCM0stmAw0CQCHe9/+jODtA9O5OQQNiNkCF7IrCD4VIQBNUvforfUFATCrXxqZ/QEAMii/mflI/QIrcTEvd9zxADYcfLxpFRECJFJKeUHJFQNTIjZg6vyhATXtLEhPuNkAHgPEdfj8gQJPabJ199z1AqopKshPLBUBXF06RiDAyQHBY5TkjcC9AHZSQNGbEO0CdRwAoejIsQC8SoqrPnj5A5zDMJNLxJ0Cm8rWFu/xIQPaSW8vLBkFA9lY55SaJR0CG2z4W89szQJ4m34cfIThA8T0ymcDxQ0CGV2XW0Kc6QMiJuiqmIDRAzhUUj72nFkBRoVQKxFcxQDTn+t+npUBAEXDNpzuAIUCpgSNaQM5HQOFClHTTrURAdLObhD/dMEBGl52k6HcoQPf8VyPspz9AJ0MYvZBQHkDJR0v3Mck4QCZOR9e8Si9AdJuLiN4KRkBuzoDucWVJQAylc7U6RzdAJvTOI4cBSUBTGp/wA2ZAQP+269lIpShAa0mC6KVD6z81TxElQw8nQEfTpXr93TBAV8wydnzzFEAMx8OauTxBQOet+362UjtApHRWcjBbK0D2HqOsEZJIQA38ECN8EiVAPoPWDdK9AEDz3LcTJPVBQB0t737RdzdAJR2NZ6vdEEAglkATVwI9QJkY56HRxxNAUNPHmFf/REB6n6rKUDBFQDLwPSr8OidAPPnfJgAlPUAs+O7Xpw0ZQG0o+AodjzZA40e52KNXEUCpv/MLcrNHQDXkLLYXgiBA9DLO5wPQQUB/sIWK3jcyQG3J7a8UD0RAuQeJ9/QEQEDBftxcwKA7QGrpA1namj9AdNshSLQ9QECgtB1KaBdLQLwYWLgBpUZAwvX/LJmFIEByKnKd3o8TQIT5rKE5nzpAEox4o/i0QEAFjw7vfQUdQJk4Ebjpn0FAtI/NJ9VWNkB0La2Nifz8P/Rj1xo3FjZADps3A7YF8j/y8Yk57s9BQCN/OGrUICRArlPTlH5PRUBMFHhSeI0wQIyv9UzilkRAof5HHWUjPkA=",
          "dtype": "f8"
         },
         "yaxis": "y"
        },
        {
         "marker": {
          "color": "#ff7f0e"
         },
         "nbinsx": 20,
         "showlegend": false,
         "type": "histogram",
         "x": {
          "bdata": "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",
          "dtype": "f8"
         },
         "xaxis": "x2",
         "yaxis": "y2"
        },
        {
         "colorscale": [
          [
           0,
           "rgb(247,251,255)"
          ],
          [
           0.125,
           "rgb(222,235,247)"
          ],
          [
           0.25,
           "rgb(198,219,239)"
          ],
          [
           0.375,
           "rgb(158,202,225)"
          ],
          [
           0.5,
           "rgb(107,174,214)"
          ],
          [
           0.625,
           "rgb(66,146,198)"
          ],
          [
           0.75,
           "rgb(33,113,181)"
          ],
          [
           0.875,
           "rgb(8,81,156)"
          ],
          [
           1,
           "rgb(8,48,107)"
          ]
         ],
         "showscale": false,
         "type": "heatmap",
         "x": [
          "Jan",
          "Feb",
          "Mar",
          "Apr",
          "May",
          "Jun"
         ],
         "xaxis": "x3",
         "y": [
          "Fiction",
          "Science",
          "History",
          "Children",
          "Reference"
         ],
         "yaxis": "y3",
         "z": {
          "bdata": "ywA3AD8AzQCzAKsAlACoAKcAoQDkAGUAwAAlARABXgCNAPoANwA3ADMAbQBuANQA6wAAAeQAqwBbAMIA",
          "dtype": "i2",
          "shape": "5, 6"
         }
        },
        {
         "fill": "tozeroy",
         "fillcolor": "rgba(44, 160, 44, 0.2)",
         "line": {
          "color": "#2ca02c",
          "width": 3
         },
         "marker": {
          "size": 10
         },
         "mode": "lines+markers",
         "showlegend": false,
         "type": "scatter",
         "x": [
          "Mon",
          "Tue",
          "Wed",
          "Thu",
          "Fri",
          "Sat",
          "Sun"
         ],
         "xaxis": "x4",
         "y": [
          120,
          95,
          85,
          110,
          130,
          180,
          160
         ],
         "yaxis": "y4"
        },
        {
         "line": {
          "color": "#d62728",
          "dash": "dash",
          "width": 3
         },
         "marker": {
          "size": 8
         },
         "mode": "lines+markers",
         "showlegend": false,
         "type": "scatter",
         "x": [
          "Jul",
          "Aug",
          "Sep",
          "Oct",
          "Nov",
          "Dec"
         ],
         "xaxis": "x5",
         "y": [
          1750,
          1820,
          1900,
          1850,
          1950,
          2100
         ],
         "yaxis": "y5"
        },
        {
         "marker": {
          "color": [
           "#1f77b4",
           "#ff7f0e",
           "#2ca02c",
           "#d62728"
          ]
         },
         "showlegend": false,
         "text": [
          "85%",
          "92%",
          "78%",
          "88%"
         ],
         "textposition": "auto",
         "type": "bar",
         "x": [
          "Staff Efficiency",
          "Digital Services",
          "Collection Growth",
          "Member Retention"
         ],
         "xaxis": "x6",
         "y": [
          85,
          92,
          78,
          88
         ],
         "yaxis": "y6"
        }
       ],
       "layout": {
        "annotations": [
         {
          "font": {
           "size": 16
          },
          "showarrow": false,
          "text": "Member Engagement Analysis",
          "x": 0.2125,
          "xanchor": "center",
          "xref": "paper",
          "y": 1,
          "yanchor": "bottom",
          "yref": "paper"
         },
         {
          "font": {
           "size": 16
          },
          "showarrow": false,
          "text": "Churn Risk Assessment",
          "x": 0.7875,
          "xanchor": "center",
          "xref": "paper",
          "y": 1,
          "yanchor": "bottom",
          "yref": "paper"
         },
         {
          "font": {
           "size": 16
          },
          "showarrow": false,
          "text": "Collection Performance Heatmap",
          "x": 0.2125,
          "xanchor": "center",
          "xref": "paper",
          "y": 0.6066666666666667,
          "yanchor": "bottom",
          "yref": "paper"
         },
         {
          "font": {
           "size": 16
          },
          "showarrow": false,
          "text": "Reading Pattern Trends",
          "x": 0.7875,
          "xanchor": "center",
          "xref": "paper",
          "y": 0.6066666666666667,
          "yanchor": "bottom",
          "yref": "paper"
         },
         {
          "font": {
           "size": 16
          },
          "showarrow": false,
          "text": "Predictive Loan Forecasting",
          "x": 0.2125,
          "xanchor": "center",
          "xref": "paper",
          "y": 0.21333333333333335,
          "yanchor": "bottom",
          "yref": "paper"
         },
         {
          "font": {
           "size": 16
          },
          "showarrow": false,
          "text": "ROI Analysis",
          "x": 0.7875,
          "xanchor": "center",
          "xref": "paper",
          "y": 0.21333333333333335,
          "yanchor": "bottom",
          "yref": "paper"
         }
        ],
        "height": 1000,
        "margin": {
         "b": 60,
         "l": 60,
         "r": 60,
         "t": 100
        },
        "paper_bgcolor": "#f8f9fa",
        "plot_bgcolor": "white",
        "showlegend": false,
        "template": {
         "data": {
          "bar": [
           {
            "error_x": {
             "color": "#2a3f5f"
            },
            "error_y": {
             "color": "#2a3f5f"
            },
            "marker": {
             "line": {
              "color": "#E5ECF6",
              "width": 0.5
             },
             "pattern": {
              "fillmode": "overlay",
              "size": 10,
              "solidity": 0.2
             }
            },
            "type": "bar"
           }
          ],
          "barpolar": [
           {
            "marker": {
             "line": {
              "color": "#E5ECF6",
              "width": 0.5
             },
             "pattern": {
              "fillmode": "overlay",
              "size": 10,
              "solidity": 0.2
             }
            },
            "type": "barpolar"
           }
          ],
          "carpet": [
           {
            "aaxis": {
             "endlinecolor": "#2a3f5f",
             "gridcolor": "white",
             "linecolor": "white",
             "minorgridcolor": "white",
             "startlinecolor": "#2a3f5f"
            },
            "baxis": {
             "endlinecolor": "#2a3f5f",
             "gridcolor": "white",
             "linecolor": "white",
             "minorgridcolor": "white",
             "startlinecolor": "#2a3f5f"
            },
            "type": "carpet"
           }
          ],
          "choropleth": [
           {
            "colorbar": {
             "outlinewidth": 0,
             "ticks": ""
            },
            "type": "choropleth"
           }
          ],
          "contour": [
           {
            "colorbar": {
             "outlinewidth": 0,
             "ticks": ""
            },
            "colorscale": [
             [
              0,
              "#0d0887"
             ],
             [
              0.1111111111111111,
              "#46039f"
             ],
             [
              0.2222222222222222,
              "#7201a8"
             ],
             [
              0.3333333333333333,
              "#9c179e"
             ],
             [
              0.4444444444444444,
              "#bd3786"
             ],
             [
              0.5555555555555556,
              "#d8576b"
             ],
             [
              0.6666666666666666,
              "#ed7953"
             ],
             [
              0.7777777777777778,
              "#fb9f3a"
             ],
             [
              0.8888888888888888,
              "#fdca26"
             ],
             [
              1,
              "#f0f921"
             ]
            ],
            "type": "contour"
           }
          ],
          "contourcarpet": [
           {
            "colorbar": {
             "outlinewidth": 0,
             "ticks": ""
            },
            "type": "contourcarpet"
           }
          ],
          "heatmap": [
           {
            "colorbar": {
             "outlinewidth": 0,
             "ticks": ""
            },
            "colorscale": [
             [
              0,
              "#0d0887"
             ],
             [
              0.1111111111111111,
              "#46039f"
             ],
             [
              0.2222222222222222,
              "#7201a8"
             ],
             [
              0.3333333333333333,
              "#9c179e"
             ],
             [
              0.4444444444444444,
              "#bd3786"
             ],
             [
              0.5555555555555556,
              "#d8576b"
             ],
             [
              0.6666666666666666,
              "#ed7953"
             ],
             [
              0.7777777777777778,
              "#fb9f3a"
             ],
             [
              0.8888888888888888,
              "#fdca26"
             ],
             [
              1,
              "#f0f921"
             ]
            ],
            "type": "heatmap"
           }
          ],
          "histogram": [
           {
            "marker": {
             "pattern": {
              "fillmode": "overlay",
              "size": 10,
              "solidity": 0.2
             }
            },
            "type": "histogram"
           }
          ],
          "histogram2d": [
           {
            "colorbar": {
             "outlinewidth": 0,
             "ticks": ""
            },
            "colorscale": [
             [
              0,
              "#0d0887"
             ],
             [
              0.1111111111111111,
              "#46039f"
             ],
             [
              0.2222222222222222,
              "#7201a8"
             ],
             [
              0.3333333333333333,
              "#9c179e"
             ],
             [
              0.4444444444444444,
              "#bd3786"
             ],
             [
              0.5555555555555556,
              "#d8576b"
             ],
             [
              0.6666666666666666,
              "#ed7953"
             ],
             [
              0.7777777777777778,
              "#fb9f3a"
             ],
             [
              0.8888888888888888,
              "#fdca26"
             ],
             [
              1,
              "#f0f921"
             ]
            ],
            "type": "histogram2d"
           }
          ],
          "histogram2dcontour": [
           {
            "colorbar": {
             "outlinewidth": 0,
             "ticks": ""
            },
            "colorscale": [
             [
              0,
              "#0d0887"
             ],
             [
              0.1111111111111111,
              "#46039f"
             ],
             [
              0.2222222222222222,
              "#7201a8"
             ],
             [
              0.3333333333333333,
              "#9c179e"
             ],
             [
              0.4444444444444444,
              "#bd3786"
             ],
             [
              0.5555555555555556,
              "#d8576b"
             ],
             [
              0.6666666666666666,
              "#ed7953"
             ],
             [
              0.7777777777777778,
              "#fb9f3a"
             ],
             [
              0.8888888888888888,
              "#fdca26"
             ],
             [
              1,
              "#f0f921"
             ]
            ],
            "type": "histogram2dcontour"
           }
          ],
          "mesh3d": [
           {
            "colorbar": {
             "outlinewidth": 0,
             "ticks": ""
            },
            "type": "mesh3d"
           }
          ],
          "parcoords": [
           {
            "line": {
             "colorbar": {
              "outlinewidth": 0,
              "ticks": ""
             }
            },
            "type": "parcoords"
           }
          ],
          "pie": [
           {
            "automargin": true,
            "type": "pie"
           }
          ],
          "scatter": [
           {
            "fillpattern": {
             "fillmode": "overlay",
             "size": 10,
             "solidity": 0.2
            },
            "type": "scatter"
           }
          ],
          "scatter3d": [
           {
            "line": {
             "colorbar": {
              "outlinewidth": 0,
              "ticks": ""
             }
            },
            "marker": {
             "colorbar": {
              "outlinewidth": 0,
              "ticks": ""
             }
            },
            "type": "scatter3d"
           }
          ],
          "scattercarpet": [
           {
            "marker": {
             "colorbar": {
              "outlinewidth": 0,
              "ticks": ""
             }
            },
            "type": "scattercarpet"
           }
          ],
          "scattergeo": [
           {
            "marker": {
             "colorbar": {
              "outlinewidth": 0,
              "ticks": ""
             }
            },
            "type": "scattergeo"
           }
          ],
          "scattergl": [
           {
            "marker": {
             "colorbar": {
              "outlinewidth": 0,
              "ticks": ""
             }
            },
            "type": "scattergl"
           }
          ],
          "scattermap": [
           {
            "marker": {
             "colorbar": {
              "outlinewidth": 0,
              "ticks": ""
             }
            },
            "type": "scattermap"
           }
          ],
          "scattermapbox": [
           {
            "marker": {
             "colorbar": {
              "outlinewidth": 0,
              "ticks": ""
             }
            },
            "type": "scattermapbox"
           }
          ],
          "scatterpolar": [
           {
            "marker": {
             "colorbar": {
              "outlinewidth": 0,
              "ticks": ""
             }
            },
            "type": "scatterpolar"
           }
          ],
          "scatterpolargl": [
           {
            "marker": {
             "colorbar": {
              "outlinewidth": 0,
              "ticks": ""
             }
            },
            "type": "scatterpolargl"
           }
          ],
          "scatterternary": [
           {
            "marker": {
             "colorbar": {
              "outlinewidth": 0,
              "ticks": ""
             }
            },
            "type": "scatterternary"
           }
          ],
          "surface": [
           {
            "colorbar": {
             "outlinewidth": 0,
             "ticks": ""
            },
            "colorscale": [
             [
              0,
              "#0d0887"
             ],
             [
              0.1111111111111111,
              "#46039f"
             ],
             [
              0.2222222222222222,
              "#7201a8"
             ],
             [
              0.3333333333333333,
              "#9c179e"
             ],
             [
              0.4444444444444444,
              "#bd3786"
             ],
             [
              0.5555555555555556,
              "#d8576b"
             ],
             [
              0.6666666666666666,
              "#ed7953"
             ],
             [
              0.7777777777777778,
              "#fb9f3a"
             ],
             [
              0.8888888888888888,
              "#fdca26"
             ],
             [
              1,
              "#f0f921"
             ]
            ],
            "type": "surface"
           }
          ],
          "table": [
           {
            "cells": {
             "fill": {
              "color": "#EBF0F8"
             },
             "line": {
              "color": "white"
             }
            },
            "header": {
             "fill": {
              "color": "#C8D4E3"
             },
             "line": {
              "color": "white"
             }
            },
            "type": "table"
           }
          ]
         },
         "layout": {
          "annotationdefaults": {
           "arrowcolor": "#2a3f5f",
           "arrowhead": 0,
           "arrowwidth": 1
          },
          "autotypenumbers": "strict",
          "coloraxis": {
           "colorbar": {
            "outlinewidth": 0,
            "ticks": ""
           }
          },
          "colorscale": {
           "diverging": [
            [
             0,
             "#8e0152"
            ],
            [
             0.1,
             "#c51b7d"
            ],
            [
             0.2,
             "#de77ae"
            ],
            [
             0.3,
             "#f1b6da"
            ],
            [
             0.4,
             "#fde0ef"
            ],
            [
             0.5,
             "#f7f7f7"
            ],
            [
             0.6,
             "#e6f5d0"
            ],
            [
             0.7,
             "#b8e186"
            ],
            [
             0.8,
             "#7fbc41"
            ],
            [
             0.9,
             "#4d9221"
            ],
            [
             1,
             "#276419"
            ]
           ],
           "sequential": [
            [
             0,
             "#0d0887"
            ],
            [
             0.1111111111111111,
             "#46039f"
            ],
            [
             0.2222222222222222,
             "#7201a8"
            ],
            [
             0.3333333333333333,
             "#9c179e"
            ],
            [
             0.4444444444444444,
             "#bd3786"
            ],
            [
             0.5555555555555556,
             "#d8576b"
            ],
            [
             0.6666666666666666,
             "#ed7953"
            ],
            [
             0.7777777777777778,
             "#fb9f3a"
            ],
            [
             0.8888888888888888,
             "#fdca26"
            ],
            [
             1,
             "#f0f921"
            ]
           ],
           "sequentialminus": [
            [
             0,
             "#0d0887"
            ],
            [
             0.1111111111111111,
             "#46039f"
            ],
            [
             0.2222222222222222,
             "#7201a8"
            ],
            [
             0.3333333333333333,
             "#9c179e"
            ],
            [
             0.4444444444444444,
             "#bd3786"
            ],
            [
             0.5555555555555556,
             "#d8576b"
            ],
            [
             0.6666666666666666,
             "#ed7953"
            ],
            [
             0.7777777777777778,
             "#fb9f3a"
            ],
            [
             0.8888888888888888,
             "#fdca26"
            ],
            [
             1,
             "#f0f921"
            ]
           ]
          },
          "colorway": [
           "#636efa",
           "#EF553B",
           "#00cc96",
           "#ab63fa",
           "#FFA15A",
           "#19d3f3",
           "#FF6692",
           "#B6E880",
           "#FF97FF",
           "#FECB52"
          ],
          "font": {
           "color": "#2a3f5f"
          },
          "geo": {
           "bgcolor": "white",
           "lakecolor": "white",
           "landcolor": "#E5ECF6",
           "showlakes": true,
           "showland": true,
           "subunitcolor": "white"
          },
          "hoverlabel": {
           "align": "left"
          },
          "hovermode": "closest",
          "mapbox": {
           "style": "light"
          },
          "paper_bgcolor": "white",
          "plot_bgcolor": "#E5ECF6",
          "polar": {
           "angularaxis": {
            "gridcolor": "white",
            "linecolor": "white",
            "ticks": ""
           },
           "bgcolor": "#E5ECF6",
           "radialaxis": {
            "gridcolor": "white",
            "linecolor": "white",
            "ticks": ""
           }
          },
          "scene": {
           "xaxis": {
            "backgroundcolor": "#E5ECF6",
            "gridcolor": "white",
            "gridwidth": 2,
            "linecolor": "white",
            "showbackground": true,
            "ticks": "",
            "zerolinecolor": "white"
           },
           "yaxis": {
            "backgroundcolor": "#E5ECF6",
            "gridcolor": "white",
            "gridwidth": 2,
            "linecolor": "white",
            "showbackground": true,
            "ticks": "",
            "zerolinecolor": "white"
           },
           "zaxis": {
            "backgroundcolor": "#E5ECF6",
            "gridcolor": "white",
            "gridwidth": 2,
            "linecolor": "white",
            "showbackground": true,
            "ticks": "",
            "zerolinecolor": "white"
           }
          },
          "shapedefaults": {
           "line": {
            "color": "#2a3f5f"
           }
          },
          "ternary": {
           "aaxis": {
            "gridcolor": "white",
            "linecolor": "white",
            "ticks": ""
           },
           "baxis": {
            "gridcolor": "white",
            "linecolor": "white",
            "ticks": ""
           },
           "bgcolor": "#E5ECF6",
           "caxis": {
            "gridcolor": "white",
            "linecolor": "white",
            "ticks": ""
           }
          },
          "title": {
           "x": 0.05
          },
          "xaxis": {
           "automargin": true,
           "gridcolor": "white",
           "linecolor": "white",
           "ticks": "",
           "title": {
            "standoff": 15
           },
           "zerolinecolor": "white",
           "zerolinewidth": 2
          },
          "yaxis": {
           "automargin": true,
           "gridcolor": "white",
           "linecolor": "white",
           "ticks": "",
           "title": {
            "standoff": 15
           },
           "zerolinecolor": "white",
           "zerolinewidth": 2
          }
         }
        },
        "title": {
         "font": {
          "color": "darkred",
          "size": 20
         },
         "text": "Analytics Dashboard - Business Intelligence & Predictive Insights",
         "x": 0.5,
         "xanchor": "center"
        },
        "width": 1400,
        "xaxis": {
         "anchor": "y",
         "domain": [
          0,
          0.425
         ],
         "title": {
          "text": "Total Loans"
         }
        },
        "xaxis2": {
         "anchor": "y2",
         "domain": [
          0.575,
          1
         ],
         "title": {
          "text": "Churn Risk"
         }
        },
        "xaxis3": {
         "anchor": "y3",
         "domain": [
          0,
          0.425
         ]
        },
        "xaxis4": {
         "anchor": "y4",
         "domain": [
          0.575,
          1
         ],
         "title": {
          "text": "Day"
         }
        },
        "xaxis5": {
         "anchor": "y5",
         "domain": [
          0,
          0.425
         ],
         "title": {
          "text": "Month"
         }
        },
        "xaxis6": {
         "anchor": "y6",
         "domain": [
          0.575,
          1
         ],
         "title": {
          "text": "Category"
         }
        },
        "yaxis": {
         "anchor": "x",
         "domain": [
          0.7866666666666666,
          1
         ],
         "title": {
          "text": "Engagement"
         }
        },
        "yaxis2": {
         "anchor": "x2",
         "domain": [
          0.7866666666666666,
          1
         ],
         "title": {
          "text": "Members"
         }
        },
        "yaxis3": {
         "anchor": "x3",
         "domain": [
          0.3933333333333333,
          0.6066666666666667
         ]
        },
        "yaxis4": {
         "anchor": "x4",
         "domain": [
          0.3933333333333333,
          0.6066666666666667
         ],
         "title": {
          "text": "Volume"
         }
        },
        "yaxis5": {
         "anchor": "x5",
         "domain": [
          0,
          0.21333333333333335
         ],
         "title": {
          "text": "Predicted Loans"
         }
        },
        "yaxis6": {
         "anchor": "x6",
         "domain": [
          0,
          0.21333333333333335
         ],
         "title": {
          "text": "ROI %"
         }
        }
       }
      }
     },
     "metadata": {},
     "output_type": "display_data"
    },
    {
     "name": "stdout",
     "output_type": "stream",
     "text": [
      "✅ Analytics Dashboard Complete - Business intelligence insights ready\n"
     ]
    }
   ],
   "source": [
    "# 🧠 Analytics Dashboard - Business Intelligence & Insights\n",
    "\n",
    "# Create Analytics Dashboard with 3x2 layout\n",
    "fig_analytics = make_subplots(\n",
    "    rows=3, cols=2,\n",
    "    subplot_titles=[\n",
    "        'Member Engagement Analysis', 'Churn Risk Assessment',\n",
    "        'Collection Performance Heatmap', 'Reading Pattern Trends',\n",
    "        'Predictive Loan Forecasting', 'ROI Analysis'\n",
    "    ],\n",
    "    vertical_spacing=0.18,    # Optimized for 3 rows\n",
    "    horizontal_spacing=0.15,\n",
    "    specs=[\n",
    "        [{\"type\": \"scatter\"}, {\"type\": \"histogram\"}],\n",
    "        [{\"type\": \"heatmap\"}, {\"type\": \"scatter\"}],\n",
    "        [{\"type\": \"scatter\"}, {\"type\": \"bar\"}]\n",
    "    ]\n",
    ")\n",
    "\n",
    "# Advanced analytics data\n",
    "member_loans = np.random.randint(1, 50, 100)\n",
    "engagement_score = member_loans * np.random.uniform(0.8, 1.2, 100)\n",
    "\n",
    "churn_risk = np.random.uniform(0, 1, 200)\n",
    "\n",
    "# Heatmap data for collection performance\n",
    "categories = ['Fiction', 'Science', 'History', 'Children', 'Reference']\n",
    "months = ['Jan', 'Feb', 'Mar', 'Apr', 'May', 'Jun']\n",
    "performance_matrix = np.random.randint(50, 300, (5, 6))\n",
    "\n",
    "reading_days = ['Mon', 'Tue', 'Wed', 'Thu', 'Fri', 'Sat', 'Sun']\n",
    "reading_volume = [120, 95, 85, 110, 130, 180, 160]\n",
    "\n",
    "forecast_months = ['Jul', 'Aug', 'Sep', 'Oct', 'Nov', 'Dec']\n",
    "predicted_loans = [1750, 1820, 1900, 1850, 1950, 2100]\n",
    "\n",
    "roi_categories = ['Staff Efficiency', 'Digital Services', 'Collection Growth', 'Member Retention']\n",
    "roi_values = [85, 92, 78, 88]\n",
    "\n",
    "# Chart 1: Member Engagement (Top Left)\n",
    "fig_analytics.add_trace(\n",
    "    go.Scatter(\n",
    "        x=member_loans,\n",
    "        y=engagement_score,\n",
    "        mode='markers',\n",
    "        marker=dict(\n",
    "            size=8,\n",
    "            color=engagement_score,\n",
    "            colorscale='Viridis',\n",
    "            showscale=False\n",
    "        ),\n",
    "        showlegend=False\n",
    "    ),\n",
    "    row=1, col=1\n",
    ")\n",
    "\n",
    "# Chart 2: Churn Risk Distribution (Top Right)\n",
    "fig_analytics.add_trace(\n",
    "    go.Histogram(\n",
    "        x=churn_risk,\n",
    "        nbinsx=20,\n",
    "        marker_color='#ff7f0e',\n",
    "        showlegend=False\n",
    "    ),\n",
    "    row=1, col=2\n",
    ")\n",
    "\n",
    "# Chart 3: Performance Heatmap (Middle Left)\n",
    "fig_analytics.add_trace(\n",
    "    go.Heatmap(\n",
    "        z=performance_matrix,\n",
    "        x=months,\n",
    "        y=categories,\n",
    "        colorscale='Blues',\n",
    "        showscale=False\n",
    "    ),\n",
    "    row=2, col=1\n",
    ")\n",
    "\n",
    "# Chart 4: Reading Patterns (Middle Right)\n",
    "fig_analytics.add_trace(\n",
    "    go.Scatter(\n",
    "        x=reading_days,\n",
    "        y=reading_volume,\n",
    "        mode='lines+markers',\n",
    "        line=dict(color='#2ca02c', width=3),\n",
    "        marker=dict(size=10),\n",
    "        fill='tozeroy',\n",
    "        fillcolor='rgba(44, 160, 44, 0.2)',\n",
    "        showlegend=False\n",
    "    ),\n",
    "    row=2, col=2\n",
    ")\n",
    "\n",
    "# Chart 5: Predictive Forecasting (Bottom Left)\n",
    "fig_analytics.add_trace(\n",
    "    go.Scatter(\n",
    "        x=forecast_months,\n",
    "        y=predicted_loans,\n",
    "        mode='lines+markers',\n",
    "        line=dict(color='#d62728', width=3, dash='dash'),\n",
    "        marker=dict(size=8),\n",
    "        showlegend=False\n",
    "    ),\n",
    "    row=3, col=1\n",
    ")\n",
    "\n",
    "# Chart 6: ROI Analysis (Bottom Right)\n",
    "fig_analytics.add_trace(\n",
    "    go.Bar(\n",
    "        x=roi_categories,\n",
    "        y=roi_values,\n",
    "        marker_color=['#1f77b4', '#ff7f0e', '#2ca02c', '#d62728'],\n",
    "        text=[f'{v}%' for v in roi_values],\n",
    "        textposition='auto',\n",
    "        showlegend=False\n",
    "    ),\n",
    "    row=3, col=2\n",
    ")\n",
    "\n",
    "# Analytics layout configuration\n",
    "fig_analytics.update_layout(\n",
    "    title={\n",
    "        'text': 'Analytics Dashboard - Business Intelligence & Predictive Insights',\n",
    "        'x': 0.5,\n",
    "        'xanchor': 'center',\n",
    "        'font': {'size': 20, 'color': 'darkred'}\n",
    "    },\n",
    "    height=1000,   # Taller for 3 rows\n",
    "    width=1400,\n",
    "    showlegend=False,\n",
    "    plot_bgcolor='white',\n",
    "    paper_bgcolor='#f8f9fa',\n",
    "    margin=dict(l=60, r=60, t=100, b=60)\n",
    ")\n",
    "\n",
    "# Update axis labels\n",
    "fig_analytics.update_xaxes(title_text=\"Total Loans\", row=1, col=1)\n",
    "fig_analytics.update_yaxes(title_text=\"Engagement\", row=1, col=1)\n",
    "fig_analytics.update_xaxes(title_text=\"Churn Risk\", row=1, col=2)\n",
    "fig_analytics.update_yaxes(title_text=\"Members\", row=1, col=2)\n",
    "fig_analytics.update_xaxes(title_text=\"Day\", row=2, col=2)\n",
    "fig_analytics.update_yaxes(title_text=\"Volume\", row=2, col=2)\n",
    "fig_analytics.update_xaxes(title_text=\"Month\", row=3, col=1)\n",
    "fig_analytics.update_yaxes(title_text=\"Predicted Loans\", row=3, col=1)\n",
    "fig_analytics.update_xaxes(title_text=\"Category\", row=3, col=2)\n",
    "fig_analytics.update_yaxes(title_text=\"ROI %\", row=3, col=2)\n",
    "\n",
    "fig_analytics.show()\n",
    "\n",
    "print(\"✅ Analytics Dashboard Complete - Business intelligence insights ready\")"
   ]
  },
  {
   "cell_type": "markdown",
   "id": "5781a00e",
   "metadata": {},
   "source": [
    "## ✅ **Dashboard Development Complete**\n",
    "\n",
    "### 🎯 **Professional Dashboard Suite Ready for Business Use**\n",
    "\n",
    "**Three comprehensive dashboard solutions have been successfully implemented:**\n",
    "\n",
    "1. **Executive Dashboard** - Strategic 2x2 layout for leadership presentations\n",
    "2. **Operational Dashboard** - Comprehensive 2x3 layout for daily operations  \n",
    "3. **Analytics Dashboard** - Advanced 3x2 layout for business intelligence\n",
    "\n",
    "### 🛠️ **Technical Specifications**\n",
    "- **Optimized Spacing**: Professional layouts with no overlapping elements\n",
    "- **Interactive Features**: Hover effects, zoom capabilities, and responsive design\n",
    "- **Export Ready**: High-quality visualizations suitable for business presentations\n",
    "- **Scalable Design**: Adaptable to different data sources and requirements\n",
    "\n",
    "### 📈 **Business Value Delivered**\n",
    "- **Strategic Decision Support**: Executive-level insights and KPI monitoring\n",
    "- **Operational Efficiency**: Real-time tracking of daily operations and performance\n",
    "- **Predictive Analytics**: Data-driven insights for proactive management\n",
    "- **Professional Presentation**: Business-ready visualizations for stakeholder communication"
   ]
  }
 ],
 "metadata": {
  "kernelspec": {
   "display_name": "env",
   "language": "python",
   "name": "python3"
  },
  "language_info": {
   "codemirror_mode": {
    "name": "ipython",
    "version": 3
   },
   "file_extension": ".py",
   "mimetype": "text/x-python",
   "name": "python",
   "nbconvert_exporter": "python",
   "pygments_lexer": "ipython3",
   "version": "3.11.13"
  }
 },
 "nbformat": 4,
 "nbformat_minor": 5
}
